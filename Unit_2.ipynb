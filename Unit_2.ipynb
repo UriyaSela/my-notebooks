{
  "nbformat": 4,
  "nbformat_minor": 0,
  "metadata": {
    "colab": {
      "provenance": [],
      "authorship_tag": "ABX9TyOYPsIzYX8pKn14xZxF4I+0",
      "include_colab_link": true
    },
    "kernelspec": {
      "name": "python3",
      "display_name": "Python 3"
    },
    "language_info": {
      "name": "python"
    }
  },
  "cells": [
    {
      "cell_type": "markdown",
      "metadata": {
        "id": "view-in-github",
        "colab_type": "text"
      },
      "source": [
        "<a href=\"https://colab.research.google.com/github/UriyaSela/my-notebooks/blob/main/Unit_2.ipynb\" target=\"_parent\"><img src=\"https://colab.research.google.com/assets/colab-badge.svg\" alt=\"Open In Colab\"/></a>"
      ]
    },
    {
      "cell_type": "markdown",
      "source": [
        "# Unit 2: Ifs, Boolean operators, Try/Except, Functions and Loops\n",
        "---\n",
        "\n",
        "1. [Ifs](#Ifs)\n",
        "2. [Boolean operators](#Boolean_operators)\n",
        "3. [Try/Except](#Try/Except)\n",
        "4. [Loops](#Loops)\n",
        "5. [Functions](#Functions)\n",
        "\n",
        "\n",
        "\n",
        "\n",
        "\n"
      ],
      "metadata": {
        "id": "ji-Mpk2XXAPS"
      }
    },
    {
      "cell_type": "markdown",
      "source": [
        "# 1. Ifs"
      ],
      "metadata": {
        "id": "L8UckjqpXuvl"
      }
    },
    {
      "cell_type": "markdown",
      "source": [
        "## If Statements in Python\n",
        "\n",
        "## Introduction\n",
        "The `if` statement in Python allows us to execute code based on a condition. It is a fundamental control flow tool that enables decision-making in programs.\n",
        "\n",
        "## Basic Syntax\n",
        "```python\n",
        "if condition:\n",
        "    # Code to execute if condition is True\n",
        "```\n",
        "\n",
        "### Example\n",
        "```python\n",
        "x = 10\n",
        "if x > 5:\n",
        "    print(\"x is greater than 5\")\n",
        "```\n",
        "**Output:**\n",
        "```\n",
        "x is greater than 5\n",
        "```\n",
        "\n",
        "## If-Else Statement\n",
        "When we want to execute one block of code if a condition is true and another block if it is false, we use `else`.\n",
        "\n",
        "### Syntax\n",
        "```python\n",
        "if condition:\n",
        "    # Code if condition is True\n",
        "else:\n",
        "    # Code if condition is False\n",
        "```\n",
        "\n",
        "### Example\n",
        "```python\n",
        "x = 3\n",
        "if x > 5:\n",
        "    print(\"x is greater than 5\")\n",
        "else:\n",
        "    print(\"x is not greater than 5\")\n",
        "```\n",
        "**Output:**\n",
        "```\n",
        "x is not greater than 5\n",
        "```\n",
        "\n",
        "## If-Elif-Else Statement\n",
        "When we have multiple conditions, we use `elif` (short for \"else if\").\n",
        "\n",
        "### Syntax\n",
        "```python\n",
        "if condition1:\n",
        "    # Code if condition1 is True\n",
        "elif condition2:\n",
        "    # Code if condition2 is True\n",
        "else:\n",
        "    # Code if none of the conditions are True\n",
        "```\n",
        "\n",
        "### Example\n",
        "```python\n",
        "x = 7\n",
        "if x < 5:\n",
        "    print(\"x is less than 5\")\n",
        "elif x == 7:\n",
        "    print(\"x is exactly 7\")\n",
        "else:\n",
        "    print(\"x is greater than 5 but not 7\")\n",
        "```\n",
        "**Output:**\n",
        "```\n",
        "x is exactly 7\n",
        "```\n",
        "\n",
        "## Nested If Statements\n",
        "An `if` statement can be placed inside another `if` statement.\n",
        "\n",
        "### Example\n",
        "```python\n",
        "x = 10\n",
        "y = 20\n",
        "if x > 5:\n",
        "    if y > 15:\n",
        "        print(\"Both conditions are true\")\n",
        "```\n",
        "**Output:**\n",
        "```\n",
        "Both conditions are true\n",
        "```\n",
        "\n",
        "## Ternary Operator (Short If-Else)\n",
        "Python allows a shorthand way to write an `if-else` statement using a single line.\n",
        "\n",
        "### Syntax\n",
        "```python\n",
        "value_if_true if condition else value_if_false\n",
        "```\n",
        "\n",
        "### Example\n",
        "```python\n",
        "x = 10\n",
        "message = \"Positive\" if x > 0 else \"Non-positive\"\n",
        "print(message)\n",
        "```\n",
        "**Output:**\n",
        "```\n",
        "Positive\n",
        "```\n",
        "\n",
        "## Table Summary\n",
        "| Syntax | Description |\n",
        "|--------|-------------|\n",
        "| `if condition:` | Executes block if condition is True |\n",
        "| `if condition: ... else:` | Executes one block if True, another if False |\n",
        "| `if condition1: ... elif condition2: ... else:` | Multiple conditions with `elif` |\n",
        "| `if condition1: if condition2: ...` | Nested if statements |\n",
        "| `value_if_true if condition else value_if_false` | Ternary (short if-else) |\n",
        "\n",
        "---\n",
        "Next, we will explore practical exercises and debugging mistakes with `if` statements!\n",
        "\n"
      ],
      "metadata": {
        "id": "kDei2zwVY0jM"
      }
    },
    {
      "cell_type": "markdown",
      "source": [
        "## Practice Exercises"
      ],
      "metadata": {
        "id": "aRdTu-aHahAB"
      }
    },
    {
      "cell_type": "markdown",
      "source": [
        "### **Exercise 1: Fix the Errors**\n",
        "The following code has mistakes. Identify and fix them.\n",
        "\n",
        "```python\n",
        "x = 10\n",
        "\n",
        "if x = 10\n",
        "    print(\"x is 10\")\n",
        "  else\n",
        "    print(\"x is not 10\")\n",
        "```\n",
        "\n",
        "---"
      ],
      "metadata": {
        "id": "x4exco0ibrg7"
      }
    },
    {
      "cell_type": "code",
      "source": [],
      "metadata": {
        "id": "X398YM4wbsXd"
      },
      "execution_count": null,
      "outputs": []
    },
    {
      "cell_type": "markdown",
      "source": [
        "### **Exercise 2: Even or Odd**\n",
        "Write a program that asks the user for a number and prints whether it is even or odd.\n",
        "\n",
        "**Example Input:**\n",
        "```\n",
        "Enter a number: 7\n",
        "```\n",
        "\n",
        "**Expected Output:**\n",
        "```\n",
        "7 is odd\n",
        "```\n",
        "\n",
        "---"
      ],
      "metadata": {
        "id": "sU1dtREZbtZu"
      }
    },
    {
      "cell_type": "code",
      "source": [],
      "metadata": {
        "id": "iKNgLt5Rbtlq"
      },
      "execution_count": null,
      "outputs": []
    },
    {
      "cell_type": "markdown",
      "source": [
        "\n",
        "\n",
        "\n",
        "### **Exercise 3: Grading System**\n",
        "Write a Python program that asks the user for a score (0-100) and prints the corresponding grade based on the following criteria:\n",
        "\n",
        "- 90 and above → \"A\"\n",
        "- 80 to 89 → \"B\"\n",
        "- 70 to 79 → \"C\"\n",
        "- 60 to 69 → \"D\"\n",
        "- Below 60 → \"F\"\n",
        "\n",
        "**Example Input:**\n",
        "```\n",
        "Enter your score: 85\n",
        "```\n",
        "\n",
        "**Expected Output:**\n",
        "```\n",
        "Your grade is: B\n",
        "```\n",
        "\n",
        "---\n",
        "\n",
        "\n"
      ],
      "metadata": {
        "id": "LxFFLs5KaVRt"
      }
    },
    {
      "cell_type": "code",
      "source": [],
      "metadata": {
        "id": "OzVXvSZVYytH"
      },
      "execution_count": null,
      "outputs": []
    },
    {
      "cell_type": "markdown",
      "source": [
        "# 2. Boolean operators"
      ],
      "metadata": {
        "id": "mkwqSDJqXurU"
      }
    },
    {
      "cell_type": "markdown",
      "source": [
        "## Boolean Operators in Python\n",
        "\n",
        "## Introduction\n",
        "Boolean operators are used to perform logical operations on boolean values (`True` and `False`). They are commonly used in conditional statements and expressions to control the flow of a program.\n",
        "\n",
        "## Boolean Values\n",
        "In Python, `True` and `False` are special keywords representing boolean values.\n",
        "\n",
        "```python\n",
        "print(True)  # Output: True\n",
        "print(False)  # Output: False\n",
        "```\n",
        "\n",
        "## Boolean Operators\n",
        "Python provides three boolean operators:\n",
        "\n",
        "| Operator | Description | Example |\n",
        "|----------|-------------|---------|\n",
        "| `and` | Returns `True` if both conditions are `True` | `True and False` → `False` |\n",
        "| `or` | Returns `True` if at least one condition is `True` | `True or False` → `True` |\n",
        "| `not` | Negates a boolean value | `not True` → `False` |\n",
        "\n",
        "### Example: `and` Operator\n",
        "```python\n",
        "x = 5\n",
        "y = 10\n",
        "if x > 0 and y > 5:\n",
        "    print(\"Both conditions are True\")\n",
        "```\n",
        "**Output:**\n",
        "```\n",
        "Both conditions are True\n",
        "```\n",
        "\n",
        "### Example: `or` Operator\n",
        "```python\n",
        "x = -5\n",
        "y = 10\n",
        "if x > 0 or y > 5:\n",
        "    print(\"At least one condition is True\")\n",
        "```\n",
        "**Output:**\n",
        "```\n",
        "At least one condition is True\n",
        "```\n",
        "\n",
        "### Example: `not` Operator\n",
        "```python\n",
        "x = False\n",
        "if not x:\n",
        "    print(\"x is False\")\n",
        "```\n",
        "**Output:**\n",
        "```\n",
        "x is False\n",
        "```\n",
        "\n",
        "## Boolean Expressions in Conditions\n",
        "Boolean operators can be used in complex conditions.\n",
        "\n",
        "```python\n",
        "x = 7\n",
        "y = 12\n",
        "if (x > 5 and y < 15) or not (x == 10):\n",
        "    print(\"Complex condition is True\")\n",
        "```\n",
        "**Output:**\n",
        "```\n",
        "Complex condition is True\n",
        "```\n",
        "\n",
        "## Table Summary\n",
        "| Syntax | Description |\n",
        "|--------|-------------|\n",
        "| `A and B` | Returns `True` if both `A` and `B` are `True` |\n",
        "| `A or B` | Returns `True` if at least one of `A` or `B` is `True` |\n",
        "| `not A` | Returns the opposite of `A` |\n",
        "\n",
        "---\n",
        "\n",
        "\n"
      ],
      "metadata": {
        "id": "BI1WPY1gj74w"
      }
    },
    {
      "cell_type": "markdown",
      "source": [
        "## Practice Exercises"
      ],
      "metadata": {
        "id": "LBoFcjzPkWsq"
      }
    },
    {
      "cell_type": "markdown",
      "source": [
        "### **Exercise 1: Complex `and` Conditions**\n",
        "**Task:** Given three variables `a = 8`, `b = 12`, and `c = 20`, write an `if` statement that prints \"Valid\" only if `a` is greater than `5`, `b` is less than `15`, and `c` is exactly `20`.\n",
        "\n",
        "```python\n",
        "# Your Code Here\n",
        "```\n",
        "\n",
        "---"
      ],
      "metadata": {
        "id": "2WQIbVIwkYrY"
      }
    },
    {
      "cell_type": "code",
      "source": [],
      "metadata": {
        "id": "b-BZF9qukbx0"
      },
      "execution_count": null,
      "outputs": []
    },
    {
      "cell_type": "markdown",
      "source": [
        "### **Exercise 2: Combining `or` and `not`**\n",
        "**Task:** Modify the following code to check if either `x` is greater than `20` or `y` is less than `10`, but ensure the condition is only met if `z` is not `0`. If so, print \"Condition Met\".\n",
        "\n",
        "```python\n",
        "x = 25\n",
        "y = 5\n",
        "z = 1\n",
        "# Your Code Here\n",
        "```\n",
        "\n",
        "---"
      ],
      "metadata": {
        "id": "2mz8ZLoCkc9s"
      }
    },
    {
      "cell_type": "code",
      "source": [],
      "metadata": {
        "id": "7ojOpSKUkiMs"
      },
      "execution_count": null,
      "outputs": []
    },
    {
      "cell_type": "markdown",
      "source": [
        "### **Exercise 3: Nested Boolean Logic**\n",
        "**Task:** Define three boolean variables: `is_admin = True`, `is_active = False`, `is_verified = True`. Write a condition that prints \"Access Granted\" only if the user is both `admin` and `verified`, or if they are `active`.\n",
        "\n",
        "```python\n",
        "is_admin = True\n",
        "is_active = False\n",
        "is_verified = True\n",
        "# Your Code Here\n",
        "```\n",
        "\n",
        "---"
      ],
      "metadata": {
        "id": "Qd2QW5Nuki5b"
      }
    },
    {
      "cell_type": "code",
      "source": [],
      "metadata": {
        "id": "xoleKBoWks_9"
      },
      "execution_count": null,
      "outputs": []
    },
    {
      "cell_type": "markdown",
      "source": [
        "\n",
        "\n",
        "\n",
        "\n",
        "\n",
        "\n",
        "\n",
        "\n",
        "### **Exercise 4: Multi-Layered Boolean Expression**\n",
        "**Task:** Given `score = 85`, `attendance = 90`, and `extra_credit = False`, write an `if` statement that prints \"Pass\" if the score is at least `80` and either the attendance is above `85` or extra credit is given.\n",
        "\n",
        "```python\n",
        "score = 85\n",
        "attendance = 90\n",
        "extra_credit = False\n",
        "# Your Code Here\n",
        "```\n",
        "\n",
        "---\n"
      ],
      "metadata": {
        "id": "UC5609PakPdm"
      }
    },
    {
      "cell_type": "code",
      "source": [],
      "metadata": {
        "id": "JBtbFDqZj7rN"
      },
      "execution_count": null,
      "outputs": []
    },
    {
      "cell_type": "markdown",
      "source": [
        "# 3. Try/Except"
      ],
      "metadata": {
        "id": "6z6PKPzLXunV"
      }
    },
    {
      "cell_type": "markdown",
      "source": [
        "## Lesson: Try/Except in Python\n",
        "\n",
        "## Introduction\n",
        "Exception handling in Python is done using `try` and `except` blocks. This allows a program to handle runtime errors and continue execution rather than crashing.\n",
        "\n",
        "## Basic Syntax\n",
        "```python\n",
        "try:\n",
        "    # Code that may cause an exception\n",
        "    risky_code()\n",
        "except ExceptionType:\n",
        "    # Handle the exception\n",
        "    handle_error()\n",
        "```\n",
        "\n",
        "## Example 1: Handling ZeroDivisionError\n",
        "```python\n",
        "try:\n",
        "    result = 10 / 0\n",
        "except ZeroDivisionError:\n",
        "    print(\"Error: Division by zero is not allowed.\")\n",
        "```\n",
        "\n",
        "## Example 2: Handling Multiple Exceptions\n",
        "```python\n",
        "try:\n",
        "    num = int(input(\"Enter a number: \"))\n",
        "    print(10 / num)\n",
        "except ZeroDivisionError:\n",
        "    print(\"Cannot divide by zero.\")\n",
        "except ValueError:\n",
        "    print(\"Invalid input! Please enter a number.\")\n",
        "```\n",
        "\n",
        "## Example 3: Using a Generic Exception\n",
        "```python\n",
        "try:\n",
        "    file = open(\"non_existent_file.txt\", \"r\")\n",
        "except Exception as e:\n",
        "    print(f\"An error occurred: {e}\")\n",
        "```\n"
      ],
      "metadata": {
        "id": "-WtXpBT7m5wV"
      }
    },
    {
      "cell_type": "markdown",
      "source": [
        "## Practice Exercises"
      ],
      "metadata": {
        "id": "db-oKa1JnEIn"
      }
    },
    {
      "cell_type": "markdown",
      "source": [
        "### Exercise 1: Handling TypeError\n",
        "#### **Instructions:**\n",
        "1. Create a `try/except` block that handles a `TypeError`.\n",
        "2. Try concatenating a string with an integer.\n",
        "3. Print an appropriate error message."
      ],
      "metadata": {
        "id": "Y0lAv_MSoTFC"
      }
    },
    {
      "cell_type": "code",
      "source": [],
      "metadata": {
        "id": "NmRf1CnWoS5W"
      },
      "execution_count": null,
      "outputs": []
    },
    {
      "cell_type": "markdown",
      "source": [
        "### Exercise 2: Handling FileNotFoundError\n",
        "#### **Instructions:**\n",
        "1. Try opening a file that does not exist.\n",
        "2. Use `try/except` to catch the `FileNotFoundError`.\n",
        "3. Print an error message when the exception occurs."
      ],
      "metadata": {
        "id": "3EO1kVXDoXBh"
      }
    },
    {
      "cell_type": "code",
      "source": [],
      "metadata": {
        "id": "aaregS3VoYOb"
      },
      "execution_count": null,
      "outputs": []
    },
    {
      "cell_type": "markdown",
      "source": [
        "\n",
        "\n",
        "\n",
        "\n",
        "\n",
        "\n",
        "### Exercise 3: Handling ValueError\n",
        "#### **Instructions:**\n",
        "1. Prompt the user to enter a number.\n",
        "2. Convert the input to an integer using `int()`.\n",
        "3. Use `try/except` to handle cases where the user enters a non-numeric value.\n",
        "4. Print an appropriate error message.\n",
        "\n",
        "\n"
      ],
      "metadata": {
        "id": "8Gjti_DqnB93"
      }
    },
    {
      "cell_type": "code",
      "source": [],
      "metadata": {
        "id": "Kai2GeNRobAI"
      },
      "execution_count": null,
      "outputs": []
    },
    {
      "cell_type": "markdown",
      "source": [
        "# 4. Loops"
      ],
      "metadata": {
        "id": "_DR1PsckX_Rz"
      }
    },
    {
      "cell_type": "markdown",
      "source": [
        "## Lesson: Loops in Python\n",
        "\n",
        "## Introduction\n",
        "Loops in Python allow us to execute a block of code multiple times. There are two main types of loops: `for` loops and `while` loops.\n",
        "\n",
        "## `for` Loop\n",
        "A `for` loop is used for iterating over a sequence (like a list, tuple, dictionary, or string).\n",
        "\n",
        "### Syntax:\n",
        "```python\n",
        "for variable in sequence:\n",
        "    # Loop body\n",
        "```\n",
        "\n",
        "### Example 1: Iterating over a list\n",
        "```python\n",
        "numbers = [1, 2, 3, 4, 5]\n",
        "for num in numbers:\n",
        "    print(num)\n",
        "```\n",
        "\n",
        "### Example 2: Using `range()`\n",
        "```python\n",
        "for i in range(5):\n",
        "    print(f\"Iteration {i}\")\n",
        "```\n",
        "\n",
        "### Example 3: Looping through a dictionary\n",
        "```python\n",
        "person = {\"name\": \"Alice\", \"age\": 25, \"city\": \"New York\"}\n",
        "for key, value in person.items():\n",
        "    print(f\"{key}: {value}\")\n",
        "```\n",
        "\n",
        "## `while` Loop\n",
        "A `while` loop executes as long as a given condition is `True`.\n",
        "\n",
        "### Syntax:\n",
        "```python\n",
        "while condition:\n",
        "    # Loop body\n",
        "```\n",
        "\n",
        "### Example 4: Counting down\n",
        "```python\n",
        "count = 5\n",
        "while count > 0:\n",
        "    print(count)\n",
        "    count -= 1\n",
        "```\n",
        "\n",
        "## Example 5: Using `break` and `continue`\n",
        "```python\n",
        "for i in range(10):\n",
        "    if i == 5:\n",
        "        break  # Stops the loop at 5\n",
        "    if i % 2 == 0:\n",
        "        continue  # Skips even numbers\n",
        "    print(i)\n",
        "```\n"
      ],
      "metadata": {
        "id": "c2WNUehV8WI4"
      }
    },
    {
      "cell_type": "markdown",
      "source": [
        "## Practice Exercises"
      ],
      "metadata": {
        "id": "9Yu_fyV59xF7"
      }
    },
    {
      "cell_type": "markdown",
      "source": [
        "### Exercise 1: Sum of Numbers\n",
        "#### **Instructions:**\n",
        "1. Write a `for` loop to calculate the sum of numbers from 1 to 100.\n",
        "2. Print the result."
      ],
      "metadata": {
        "id": "JyLY7zZP94Ew"
      }
    },
    {
      "cell_type": "code",
      "source": [],
      "metadata": {
        "id": "zTkNE_II94jr"
      },
      "execution_count": null,
      "outputs": []
    },
    {
      "cell_type": "markdown",
      "source": [
        "### Exercise 2: Finding Prime Numbers\n",
        "#### **Instructions:**\n",
        "1. Write a `for` loop that checks numbers from 1 to 50.\n",
        "2. Print the prime numbers."
      ],
      "metadata": {
        "id": "0WTFrFV--COP"
      }
    },
    {
      "cell_type": "code",
      "source": [],
      "metadata": {
        "id": "TYgrdFbv-ClE"
      },
      "execution_count": null,
      "outputs": []
    },
    {
      "cell_type": "markdown",
      "source": [
        "### Exercise 3: Using a `while` Loop\n",
        "#### **Instructions:**\n",
        "1. Write a `while` loop that asks the user for a number.\n",
        "2. Stop when the user enters `0`."
      ],
      "metadata": {
        "id": "Bg6Wy6sV-Hlq"
      }
    },
    {
      "cell_type": "code",
      "source": [],
      "metadata": {
        "id": "6IZfM8iR-ID4"
      },
      "execution_count": null,
      "outputs": []
    },
    {
      "cell_type": "markdown",
      "source": [
        "### Exercise 4: Fibonacci Sequence\n",
        "#### **Instructions:**\n",
        "1. Write a `while` loop to generate Fibonacci numbers up to 100.\n",
        "2. Print each number."
      ],
      "metadata": {
        "id": "BF4GeDwY-PX2"
      }
    },
    {
      "cell_type": "code",
      "source": [],
      "metadata": {
        "id": "oQDMcG_F-PxN"
      },
      "execution_count": null,
      "outputs": []
    },
    {
      "cell_type": "markdown",
      "source": [
        "### Exercise 5: Pattern Printing\n",
        "#### **Instructions:**\n",
        "1. Write a `for` loop to print the following pattern:\n",
        "```\n",
        " *\n",
        " **\n",
        " ***\n",
        " ****\n",
        " *****\n",
        "```"
      ],
      "metadata": {
        "id": "qJPvHlKs-Wcs"
      }
    },
    {
      "cell_type": "code",
      "source": [],
      "metadata": {
        "id": "9ee-Q7SB-sKk"
      },
      "execution_count": null,
      "outputs": []
    },
    {
      "cell_type": "markdown",
      "source": [
        "### Exercise EXTRA: Finding the First Palindrome (harder one)\n",
        "#### **Instructions:**\n",
        "1. Write a `while` loop to keep asking the user for a word.\n",
        "2. Stop when they enter a palindrome.\n"
      ],
      "metadata": {
        "id": "8f38HnU_9wJU"
      }
    },
    {
      "cell_type": "code",
      "source": [],
      "metadata": {
        "id": "plPEK6Vf-wzZ"
      },
      "execution_count": null,
      "outputs": []
    },
    {
      "cell_type": "markdown",
      "source": [
        "# 5. Functions"
      ],
      "metadata": {
        "id": "Hefg3jHMXui9"
      }
    },
    {
      "cell_type": "markdown",
      "source": [
        "## Lesson: Functions in Python\n",
        "\n",
        "## Introduction\n",
        "Functions in Python allow us to encapsulate reusable blocks of code. They help in structuring programs efficiently and improving code readability.\n",
        "\n",
        "## Basic Syntax\n",
        "```python\n",
        "def function_name(parameters):\n",
        "    \"\"\"Function documentation (optional)\"\"\"\n",
        "    # Function body\n",
        "    return result\n",
        "```\n",
        "\n",
        "## Example 1: Simple Function\n",
        "```python\n",
        "def greet(name):\n",
        "    return f\"Hello, {name}!\"\n",
        "\n",
        "print(greet(\"Alice\"))\n",
        "```\n",
        "\n",
        "## Example 2: Function with Default Parameters\n",
        "```python\n",
        "def power(base, exponent=2):\n",
        "    return base ** exponent\n",
        "\n",
        "print(power(3))   # Uses default exponent (2)\n",
        "print(power(3, 3)) # Uses provided exponent (3)\n",
        "```\n",
        "\n",
        "## Example 3: Function with Multiple Return Values\n",
        "```python\n",
        "def calculate(a, b):\n",
        "    sum_value = a + b\n",
        "    product = a * b\n",
        "    return sum_value, product\n",
        "\n",
        "sum_result, product_result = calculate(4, 5)\n",
        "print(f\"Sum: {sum_result}, Product: {product_result}\")\n",
        "```\n",
        "\n",
        "## Example 4: Function with Arbitrary Arguments (`*args` and `**kwargs`)\n",
        "```python\n",
        "def print_args(*args, **kwargs):\n",
        "    print(\"Positional arguments:\")\n",
        "    for arg in args:\n",
        "        print(arg)\n",
        "    \n",
        "    print(\"Keyword arguments:\")\n",
        "    for key, value in kwargs.items():\n",
        "        print(f\"{key}: {value}\")\n",
        "\n",
        "\n",
        "print_args(1, 2, 3, name=\"Alice\", age=25)\n",
        "```\n"
      ],
      "metadata": {
        "id": "ZxRz4aYip8GQ"
      }
    },
    {
      "cell_type": "markdown",
      "source": [
        "## Practice Exercises\n"
      ],
      "metadata": {
        "id": "I6leId8f3tRC"
      }
    },
    {
      "cell_type": "markdown",
      "source": [
        "### Exercise 1: Writing a Function to Calculate Factorial\n",
        "#### **Instructions:**\n",
        "1. Write a function `factorial(n)` that returns the factorial of `n`.\n",
        "2. Use a loop or recursion.\n",
        "3. Test the function with different values."
      ],
      "metadata": {
        "id": "Bcpr_0F-3uhP"
      }
    },
    {
      "cell_type": "code",
      "source": [],
      "metadata": {
        "id": "rypkUGOh302w"
      },
      "execution_count": null,
      "outputs": []
    },
    {
      "cell_type": "markdown",
      "source": [
        "### Exercise 2: Function for Temperature Conversion\n",
        "#### **Instructions:**\n",
        "1. Write a function `convert_temp(temp, to_scale)` that converts temperatures.\n",
        "2. If `to_scale` is `'F'`, convert Celsius to Fahrenheit.\n",
        "3. If `to_scale` is `'C'`, convert Fahrenheit to Celsius.\n",
        "4. Test the function with different inputs."
      ],
      "metadata": {
        "id": "eKsC-XyC325H"
      }
    },
    {
      "cell_type": "code",
      "source": [],
      "metadata": {
        "id": "tdl70rkH37Cb"
      },
      "execution_count": null,
      "outputs": []
    },
    {
      "cell_type": "markdown",
      "source": [
        "\n",
        "\n",
        "\n",
        "\n",
        "\n",
        "\n",
        "\n",
        "### Exercise 3: Function to Count Vowels\n",
        "#### **Instructions:**\n",
        "1. Write a function `count_vowels(text)` that counts the number of vowels in a string.\n",
        "2. Consider both uppercase and lowercase vowels.\n",
        "3. Test the function with different words and sentences.\n",
        "\n",
        "\n"
      ],
      "metadata": {
        "id": "70i0Oh_I3q_e"
      }
    },
    {
      "cell_type": "code",
      "source": [],
      "metadata": {
        "id": "l0f2Sg1v4A6I"
      },
      "execution_count": null,
      "outputs": []
    },
    {
      "cell_type": "code",
      "execution_count": null,
      "metadata": {
        "id": "eM7ztRfjW_jC"
      },
      "outputs": [],
      "source": []
    }
  ]
}