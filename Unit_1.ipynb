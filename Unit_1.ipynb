{
  "nbformat": 4,
  "nbformat_minor": 0,
  "metadata": {
    "colab": {
      "provenance": [],
      "collapsed_sections": [
        "Ck4zxgSKw5nR",
        "yggKMLU54MfA",
        "eo7ipEXf4zKi",
        "F1DIulR644Ob",
        "tC3Mk1_G5BWj",
        "SrO_D-b05J40",
        "Xfvm0i7p5Pra",
        "c-plArg45aGG"
      ]
    },
    "kernelspec": {
      "name": "python3",
      "display_name": "Python 3"
    },
    "language_info": {
      "name": "python"
    }
  },
  "cells": [
    {
      "cell_type": "markdown",
      "source": [],
      "metadata": {
        "id": "fWxZgTIb32ga"
      }
    },
    {
      "cell_type": "markdown",
      "source": [
        "# welcome to the course!"
      ],
      "metadata": {
        "id": "k9dpqAGgtx6e"
      }
    },
    {
      "cell_type": "markdown",
      "source": [
        "# Unit 1: Pyhton?, Notebooks, Markdown, Help,\n",
        "---\n",
        "\n",
        "1. [Introduction to Data Analysis in Python](#section1)\n",
        "2. [Introducing Notebooks and Markdown](#section2)\n",
        "3. [Getting help](#section3)\n",
        "4. [Reserved words](#section4)\n",
        "5. [Assignment statements](#section5)\n",
        "6. [Expressions and operators](#section6)\n",
        "7. [Introduction with variables and data structures](#section7)\n",
        "8. [Conversion of types](#section8)\n",
        "\n",
        "\n",
        "\n"
      ],
      "metadata": {
        "id": "RbHEZcVT0ttO"
      }
    },
    {
      "cell_type": "markdown",
      "source": [
        "# 1. Introduction to Data Analysis in Python\n",
        "\n"
      ],
      "metadata": {
        "id": "Ck4zxgSKw5nR"
      }
    },
    {
      "cell_type": "markdown",
      "source": [
        "## What is Python?\n",
        "\n",
        "Python is a versatile, high-level programming language known for its readability, simplicity, and broad ecosystem of libraries. Unlike SQL, which is primarily used for querying relational databases, Python is a general-purpose language that can be used for:\n",
        "- **Data manipulation and analysis** (using libraries such as `pandas` and `numpy`)\n",
        "- **Statistical analysis and machine learning** (using libraries like `scikit-learn`, `statsmodels`, and `tensorflow`)\n",
        "- **Data visualization** (using libraries like `matplotlib`, `seaborn`, and `plotly`)\n",
        "- **Automation and scripting**\n",
        "- **Web scraping and API integration**\n",
        "\n",
        "Python’s versatility makes it an excellent tool for data analysts who want to perform complex data manipulation, statistical analysis, and build reproducible data pipelines.\n",
        "\n",
        "## Why Should Data Analysts Use Python?\n",
        "\n",
        "Even if you are already comfortable with SQL, Python offers several key benefits:\n",
        "\n",
        "1. **Flexibility Beyond SQL:**\n",
        "   - **Complex Transformations:** While SQL is great for data querying and simple aggregations, Python can handle more complex data transformations that may be difficult or inefficient in SQL.\n",
        "   - **Data Integration:** Python easily integrates with APIs, file systems, and various data sources (CSV, Excel, JSON, NoSQL, etc.), whereas SQL is often limited to relational databases.\n",
        "   \n",
        "2. **Rich Ecosystem for Data Analysis:**\n",
        "   - **Pandas:** The `pandas` library provides powerful data structures (like DataFrames) that simplify data manipulation, cleaning, and exploration.\n",
        "   - **Visualization:** Libraries such as `matplotlib` and `seaborn` allow for creating publication-quality graphs and plots, helping you to quickly spot trends and insights.\n",
        "   - **Machine Learning:** With libraries like `scikit-learn`, Python makes it straightforward to build, validate, and deploy predictive models.\n",
        "\n",
        "3. **Reproducibility and Automation:**\n",
        "   - **Notebooks:** Jupyter Notebooks allow you to combine code, visualizations, and narrative text in one interactive document, making your analyses more reproducible and easier to share.\n",
        "   - **Scripting:** Python scripts can be scheduled and automated, which is beneficial for tasks like data cleaning, reporting, and model retraining.\n",
        "\n",
        "4. **Community and Support:**\n",
        "   - Python has a large and active community. This means access to a wealth of tutorials, forums, and third-party libraries that continue to push the boundaries of what can be achieved in data analysis.\n",
        "\n",
        "## Python vs. SQL: A Comparison\n",
        "\n",
        "| Feature                | Python                                                         | SQL                                                         |\n",
        "|------------------------|----------------------------------------------------------------|-------------------------------------------------------------|\n",
        "| **Primary Use Case**   | General-purpose programming; data manipulation and analysis    | Data querying and relational data management              |\n",
        "| **Data Sources**       | Files (CSV, Excel), databases, web APIs, etc.                  | Relational databases                                       |\n",
        "| **Data Transformation**| Complex, multi-step transformations using libraries like pandas| Set-based operations; joins, aggregations, and filters       |\n",
        "| **Visualization**      | Extensive libraries for custom visualizations                  | Limited to built-in functions; often requires external tools |\n",
        "| **Machine Learning**   | Full libraries available for model building and evaluation       | Not designed for ML; relies on integration with other tools   |\n",
        "| **Automation**         | Easy to script and schedule tasks                              | Typically embedded within application logic or ETL processes |\n",
        "\n",
        "## Example: Using Python for Data Analysis\n",
        "\n",
        "Let's see a simple example of how Python can be used to perform data analysis using `pandas` and `matplotlib`.\n"
      ],
      "metadata": {
        "id": "c0X8Fvr-4DfN"
      }
    },
    {
      "cell_type": "markdown",
      "source": [],
      "metadata": {
        "id": "_UbCrz9t3-V5"
      }
    },
    {
      "cell_type": "code",
      "execution_count": 4,
      "metadata": {
        "colab": {
          "base_uri": "https://localhost:8080/"
        },
        "id": "OIWcNC8Ctf6A",
        "outputId": "d415bb53-d55f-4601-c484-61761b3281d8"
      },
      "outputs": [
        {
          "output_type": "stream",
          "name": "stdout",
          "text": [
            "hello world\n"
          ]
        }
      ],
      "source": [
        "print('hello world')"
      ]
    },
    {
      "cell_type": "markdown",
      "source": [],
      "metadata": {
        "id": "d8aQiRRix12Y"
      }
    },
    {
      "cell_type": "code",
      "source": [
        "# Importing necessary libraries\n",
        "import pandas as pd\n",
        "import matplotlib.pyplot as plt\n",
        "\n",
        "# Load a sample dataset (for example, the Iris dataset)\n",
        "url = \"https://raw.githubusercontent.com/mwaskom/seaborn-data/master/iris.csv\"\n",
        "df = pd.read_csv(url)\n",
        "\n",
        "# Display the first few rows of the dataset\n",
        "print(\"First 5 rows of the Iris dataset:\")\n",
        "print(df.head())\n",
        "\n",
        "# Quick summary of the dataset\n",
        "print(\"\\nDataset summary:\")\n",
        "print(df.describe())\n",
        "\n",
        "# Visualize the data: scatter plot of sepal_length vs. sepal_width, colored by species\n",
        "plt.figure(figsize=(8, 6))\n",
        "for species in df['species'].unique():\n",
        "    subset = df[df['species'] == species]\n",
        "    plt.scatter(subset['sepal_length'], subset['sepal_width'], label=species)\n",
        "\n",
        "plt.xlabel('Sepal Length')\n",
        "plt.ylabel('Sepal Width')\n",
        "plt.title('Iris Dataset: Sepal Dimensions by Species')\n",
        "plt.legend()\n",
        "plt.show()\n"
      ],
      "metadata": {
        "colab": {
          "base_uri": "https://localhost:8080/",
          "height": 876
        },
        "id": "qJ6bykTlw3--",
        "outputId": "c3113482-3828-45ef-885c-a1af6ec50532"
      },
      "execution_count": 5,
      "outputs": [
        {
          "output_type": "stream",
          "name": "stdout",
          "text": [
            "First 5 rows of the Iris dataset:\n",
            "   sepal_length  sepal_width  petal_length  petal_width species\n",
            "0           5.1          3.5           1.4          0.2  setosa\n",
            "1           4.9          3.0           1.4          0.2  setosa\n",
            "2           4.7          3.2           1.3          0.2  setosa\n",
            "3           4.6          3.1           1.5          0.2  setosa\n",
            "4           5.0          3.6           1.4          0.2  setosa\n",
            "\n",
            "Dataset summary:\n",
            "       sepal_length  sepal_width  petal_length  petal_width\n",
            "count    150.000000   150.000000    150.000000   150.000000\n",
            "mean       5.843333     3.057333      3.758000     1.199333\n",
            "std        0.828066     0.435866      1.765298     0.762238\n",
            "min        4.300000     2.000000      1.000000     0.100000\n",
            "25%        5.100000     2.800000      1.600000     0.300000\n",
            "50%        5.800000     3.000000      4.350000     1.300000\n",
            "75%        6.400000     3.300000      5.100000     1.800000\n",
            "max        7.900000     4.400000      6.900000     2.500000\n"
          ]
        },
        {
          "output_type": "display_data",
          "data": {
            "text/plain": [
              "<Figure size 800x600 with 1 Axes>"
            ],
            "image/png": "[encoded data removed]"
          },
          "metadata": {}
        }
      ]
    },
    {
      "cell_type": "markdown",
      "source": [],
      "metadata": {
        "id": "MNbrMu120EA5"
      }
    },
    {
      "cell_type": "markdown",
      "source": [],
      "metadata": {
        "id": "aj07qbXh1TfI"
      }
    },
    {
      "cell_type": "markdown",
      "source": [
        "# 2. Introducing Notebooks and Markdown"
      ],
      "metadata": {
        "id": "yggKMLU54MfA"
      }
    },
    {
      "cell_type": "markdown",
      "source": [
        "IPython - Interactive python. This notebook.\n",
        "If you want to read more, [look here](https://jupyterlab.readthedocs.io/en/latest/user/notebook.html#notebook)\n",
        "\n",
        "We'll run IPython through Jupyter. This allows you to **tell a story**.\n",
        "\n",
        "Becoming proficient in Python - remember:\n",
        "\n",
        "<div>\n",
        "<img src=\"hawaii.png\" width=\"700\"/>\n",
        "</div>\n",
        "\n",
        "\n",
        "\n",
        "\n",
        "### Text Using Markdown\n",
        "***\n",
        "**If you double click on this cell**, you will see the text change so that all of the formatting is removed. This allows you to edit this block of text. This block of text is written using [Markdown](http://daringfireball.net/projects/markdown/syntax), which is a way to format text using headers, links, italics, and many other options. Hit _shift_ + _enter_ or _shift_ + _return_ on your keyboard to show the formatted text again. This is called \"running\" the cell, and you can also do it using the run button in the toolbar.\n"
      ],
      "metadata": {
        "id": "uCx7otY95sDv"
      }
    },
    {
      "cell_type": "markdown",
      "source": [
        "### Code cells\n",
        "---\n",
        "\n",
        "One great advantage of IPython notebooks is that you can show your Python code alongside the results, add comments to the code, or even add blocks of text using Markdown. These notebooks allow you to collaborate with others and share your work. The following cell is a code cell."
      ],
      "metadata": {
        "id": "eeWw2gRO8fRl"
      }
    },
    {
      "cell_type": "code",
      "source": [
        "print('Hello World')"
      ],
      "metadata": {
        "colab": {
          "base_uri": "https://localhost:8080/"
        },
        "id": "hxcnZUSM8lC3",
        "outputId": "bccf6031-06a3-4afd-d306-96c6c7b7b42d"
      },
      "execution_count": 8,
      "outputs": [
        {
          "output_type": "stream",
          "name": "stdout",
          "text": [
            "Hello World\n"
          ]
        }
      ]
    },
    {
      "cell_type": "markdown",
      "source": [
        "The last line of every code cell will be displayed by default,\n",
        "even if you don't print it."
      ],
      "metadata": {
        "id": "uPbr79ga8r1c"
      }
    },
    {
      "cell_type": "code",
      "source": [
        "2 + 2 # The result of this line will not be displayed\n",
        "3 + 3 # The result of this line will be displayed, because it is the last line of the cell"
      ],
      "metadata": {
        "colab": {
          "base_uri": "https://localhost:8080/"
        },
        "id": "uoK0p9o48tcA",
        "outputId": "9c4cc5f0-a616-4577-974e-2d7f8df75793"
      },
      "execution_count": 9,
      "outputs": [
        {
          "output_type": "execute_result",
          "data": {
            "text/plain": [
              "6"
            ]
          },
          "metadata": {},
          "execution_count": 9
        }
      ]
    },
    {
      "cell_type": "markdown",
      "source": [
        "### Nicely formatted results\n",
        "\n",
        "\n",
        "IPython notebooks allow you to display nicely formatted results, such as plots and tables, directly in\n",
        "the notebook. You'll learn how to use the following libraries later on in this course, but for now here's a\n",
        "preview of what IPython notebook can do.\n",
        "\n",
        "If you run the next cell, you should see the values displayed as a table."
      ],
      "metadata": {
        "id": "NeXZptZ18zOf"
      }
    },
    {
      "cell_type": "code",
      "source": [
        "# Pandas is a software library for data manipulation and analysis. You'll learn to use it later in this course.\n",
        "import pandas as pd\n",
        "\n",
        "df = pd.DataFrame({'a': [2, 4, 6, 8], 'b': [1, 3, 5, 7]})\n",
        "df"
      ],
      "metadata": {
        "colab": {
          "base_uri": "https://localhost:8080/",
          "height": 175
        },
        "id": "y-BsdEFT80Yw",
        "outputId": "5d91f54a-8a58-441e-b2f6-930c61dab944"
      },
      "execution_count": 10,
      "outputs": [
        {
          "output_type": "execute_result",
          "data": {
            "text/plain": [
              "   a  b\n",
              "0  2  1\n",
              "1  4  3\n",
              "2  6  5\n",
              "3  8  7"
            ],
            "text/html": [
              "\n",
              "  <div id=\"df-3e5c878d-9081-4945-929a-a34178cee10f\" class=\"colab-df-container\">\n",
              "    <div>\n",
              "<style scoped>\n",
              "    .dataframe tbody tr th:only-of-type {\n",
              "        vertical-align: middle;\n",
              "    }\n",
              "\n",
              "    .dataframe tbody tr th {\n",
              "        vertical-align: top;\n",
              "    }\n",
              "\n",
              "    .dataframe thead th {\n",
              "        text-align: right;\n",
              "    }\n",
              "</style>\n",
              "<table border=\"1\" class=\"dataframe\">\n",
              "  <thead>\n",
              "    <tr style=\"text-align: right;\">\n",
              "      <th></th>\n",
              "      <th>a</th>\n",
              "      <th>b</th>\n",
              "    </tr>\n",
              "  </thead>\n",
              "  <tbody>\n",
              "    <tr>\n",
              "      <th>0</th>\n",
              "      <td>2</td>\n",
              "      <td>1</td>\n",
              "    </tr>\n",
              "    <tr>\n",
              "      <th>1</th>\n",
              "      <td>4</td>\n",
              "      <td>3</td>\n",
              "    </tr>\n",
              "    <tr>\n",
              "      <th>2</th>\n",
              "      <td>6</td>\n",
              "      <td>5</td>\n",
              "    </tr>\n",
              "    <tr>\n",
              "      <th>3</th>\n",
              "      <td>8</td>\n",
              "      <td>7</td>\n",
              "    </tr>\n",
              "  </tbody>\n",
              "</table>\n",
              "</div>\n",
              "    <div class=\"colab-df-buttons\">\n",
              "\n",
              "  <div class=\"colab-df-container\">\n",
              "    <button class=\"colab-df-convert\" onclick=\"convertToInteractive('df-3e5c878d-9081-4945-929a-a34178cee10f')\"\n",
              "            title=\"Convert this dataframe to an interactive table.\"\n",
              "            style=\"display:none;\">\n",
              "\n",
              "  <svg xmlns=\"http://www.w3.org/2000/svg\" height=\"24px\" viewBox=\"0 -960 960 960\">\n",
              "    <path d=\"M120-120v-720h720v720H120Zm60-500h600v-160H180v160Zm220 220h160v-160H400v160Zm0 220h160v-160H400v160ZM180-400h160v-160H180v160Zm440 0h160v-160H620v160ZM180-180h160v-160H180v160Zm440 0h160v-160H620v160Z\"/>\n",
              "  </svg>\n",
              "    </button>\n",
              "\n",
              "  <style>\n",
              "    .colab-df-container {\n",
              "      display:flex;\n",
              "      gap: 12px;\n",
              "    }\n",
              "\n",
              "    .colab-df-convert {\n",
              "      background-color: #E8F0FE;\n",
              "      border: none;\n",
              "      border-radius: 50%;\n",
              "      cursor: pointer;\n",
              "      display: none;\n",
              "      fill: #1967D2;\n",
              "      height: 32px;\n",
              "      padding: 0 0 0 0;\n",
              "      width: 32px;\n",
              "    }\n",
              "\n",
              "    .colab-df-convert:hover {\n",
              "      background-color: #E2EBFA;\n",
              "      box-shadow: 0px 1px 2px rgba(60, 64, 67, 0.3), 0px 1px 3px 1px rgba(60, 64, 67, 0.15);\n",
              "      fill: #174EA6;\n",
              "    }\n",
              "\n",
              "    .colab-df-buttons div {\n",
              "      margin-bottom: 4px;\n",
              "    }\n",
              "\n",
              "    [theme=dark] .colab-df-convert {\n",
              "      background-color: #3B4455;\n",
              "      fill: #D2E3FC;\n",
              "    }\n",
              "\n",
              "    [theme=dark] .colab-df-convert:hover {\n",
              "      background-color: #434B5C;\n",
              "      box-shadow: 0px 1px 3px 1px rgba(0, 0, 0, 0.15);\n",
              "      filter: drop-shadow(0px 1px 2px rgba(0, 0, 0, 0.3));\n",
              "      fill: #FFFFFF;\n",
              "    }\n",
              "  </style>\n",
              "\n",
              "    <script>\n",
              "      const buttonEl =\n",
              "        document.querySelector('#df-3e5c878d-9081-4945-929a-a34178cee10f button.colab-df-convert');\n",
              "      buttonEl.style.display =\n",
              "        google.colab.kernel.accessAllowed ? 'block' : 'none';\n",
              "\n",
              "      async function convertToInteractive(key) {\n",
              "        const element = document.querySelector('#df-3e5c878d-9081-4945-929a-a34178cee10f');\n",
              "        const dataTable =\n",
              "          await google.colab.kernel.invokeFunction('convertToInteractive',\n",
              "                                                    [key], {});\n",
              "        if (!dataTable) return;\n",
              "\n",
              "        const docLinkHtml = 'Like what you see? Visit the ' +\n",
              "          '<a target=\"_blank\" href=https://colab.research.google.com/notebooks/data_table.ipynb>data table notebook</a>'\n",
              "          + ' to learn more about interactive tables.';\n",
              "        element.innerHTML = '';\n",
              "        dataTable['output_type'] = 'display_data';\n",
              "        await google.colab.output.renderOutput(dataTable, element);\n",
              "        const docLink = document.createElement('div');\n",
              "        docLink.innerHTML = docLinkHtml;\n",
              "        element.appendChild(docLink);\n",
              "      }\n",
              "    </script>\n",
              "  </div>\n",
              "\n",
              "\n",
              "<div id=\"df-d5cea43b-a39c-41ab-9a6f-cba26dbd5f77\">\n",
              "  <button class=\"colab-df-quickchart\" onclick=\"quickchart('df-d5cea43b-a39c-41ab-9a6f-cba26dbd5f77')\"\n",
              "            title=\"Suggest charts\"\n",
              "            style=\"display:none;\">\n",
              "\n",
              "<svg xmlns=\"http://www.w3.org/2000/svg\" height=\"24px\"viewBox=\"0 0 24 24\"\n",
              "     width=\"24px\">\n",
              "    <g>\n",
              "        <path d=\"M19 3H5c-1.1 0-2 .9-2 2v14c0 1.1.9 2 2 2h14c1.1 0 2-.9 2-2V5c0-1.1-.9-2-2-2zM9 17H7v-7h2v7zm4 0h-2V7h2v10zm4 0h-2v-4h2v4z\"/>\n",
              "    </g>\n",
              "</svg>\n",
              "  </button>\n",
              "\n",
              "<style>\n",
              "  .colab-df-quickchart {\n",
              "      --bg-color: #E8F0FE;\n",
              "      --fill-color: #1967D2;\n",
              "      --hover-bg-color: #E2EBFA;\n",
              "      --hover-fill-color: #174EA6;\n",
              "      --disabled-fill-color: #AAA;\n",
              "      --disabled-bg-color: #DDD;\n",
              "  }\n",
              "\n",
              "  [theme=dark] .colab-df-quickchart {\n",
              "      --bg-color: #3B4455;\n",
              "      --fill-color: #D2E3FC;\n",
              "      --hover-bg-color: #434B5C;\n",
              "      --hover-fill-color: #FFFFFF;\n",
              "      --disabled-bg-color: #3B4455;\n",
              "      --disabled-fill-color: #666;\n",
              "  }\n",
              "\n",
              "  .colab-df-quickchart {\n",
              "    background-color: var(--bg-color);\n",
              "    border: none;\n",
              "    border-radius: 50%;\n",
              "    cursor: pointer;\n",
              "    display: none;\n",
              "    fill: var(--fill-color);\n",
              "    height: 32px;\n",
              "    padding: 0;\n",
              "    width: 32px;\n",
              "  }\n",
              "\n",
              "  .colab-df-quickchart:hover {\n",
              "    background-color: var(--hover-bg-color);\n",
              "    box-shadow: 0 1px 2px rgba(60, 64, 67, 0.3), 0 1px 3px 1px rgba(60, 64, 67, 0.15);\n",
              "    fill: var(--button-hover-fill-color);\n",
              "  }\n",
              "\n",
              "  .colab-df-quickchart-complete:disabled,\n",
              "  .colab-df-quickchart-complete:disabled:hover {\n",
              "    background-color: var(--disabled-bg-color);\n",
              "    fill: var(--disabled-fill-color);\n",
              "    box-shadow: none;\n",
              "  }\n",
              "\n",
              "  .colab-df-spinner {\n",
              "    border: 2px solid var(--fill-color);\n",
              "    border-color: transparent;\n",
              "    border-bottom-color: var(--fill-color);\n",
              "    animation:\n",
              "      spin 1s steps(1) infinite;\n",
              "  }\n",
              "\n",
              "  @keyframes spin {\n",
              "    0% {\n",
              "      border-color: transparent;\n",
              "      border-bottom-color: var(--fill-color);\n",
              "      border-left-color: var(--fill-color);\n",
              "    }\n",
              "    20% {\n",
              "      border-color: transparent;\n",
              "      border-left-color: var(--fill-color);\n",
              "      border-top-color: var(--fill-color);\n",
              "    }\n",
              "    30% {\n",
              "      border-color: transparent;\n",
              "      border-left-color: var(--fill-color);\n",
              "      border-top-color: var(--fill-color);\n",
              "      border-right-color: var(--fill-color);\n",
              "    }\n",
              "    40% {\n",
              "      border-color: transparent;\n",
              "      border-right-color: var(--fill-color);\n",
              "      border-top-color: var(--fill-color);\n",
              "    }\n",
              "    60% {\n",
              "      border-color: transparent;\n",
              "      border-right-color: var(--fill-color);\n",
              "    }\n",
              "    80% {\n",
              "      border-color: transparent;\n",
              "      border-right-color: var(--fill-color);\n",
              "      border-bottom-color: var(--fill-color);\n",
              "    }\n",
              "    90% {\n",
              "      border-color: transparent;\n",
              "      border-bottom-color: var(--fill-color);\n",
              "    }\n",
              "  }\n",
              "</style>\n",
              "\n",
              "  <script>\n",
              "    async function quickchart(key) {\n",
              "      const quickchartButtonEl =\n",
              "        document.querySelector('#' + key + ' button');\n",
              "      quickchartButtonEl.disabled = true;  // To prevent multiple clicks.\n",
              "      quickchartButtonEl.classList.add('colab-df-spinner');\n",
              "      try {\n",
              "        const charts = await google.colab.kernel.invokeFunction(\n",
              "            'suggestCharts', [key], {});\n",
              "      } catch (error) {\n",
              "        console.error('Error during call to suggestCharts:', error);\n",
              "      }\n",
              "      quickchartButtonEl.classList.remove('colab-df-spinner');\n",
              "      quickchartButtonEl.classList.add('colab-df-quickchart-complete');\n",
              "    }\n",
              "    (() => {\n",
              "      let quickchartButtonEl =\n",
              "        document.querySelector('#df-d5cea43b-a39c-41ab-9a6f-cba26dbd5f77 button');\n",
              "      quickchartButtonEl.style.display =\n",
              "        google.colab.kernel.accessAllowed ? 'block' : 'none';\n",
              "    })();\n",
              "  </script>\n",
              "</div>\n",
              "\n",
              "  <div id=\"id_4ae4daea-631b-4e0e-812c-5247924a80bb\">\n",
              "    <style>\n",
              "      .colab-df-generate {\n",
              "        background-color: #E8F0FE;\n",
              "        border: none;\n",
              "        border-radius: 50%;\n",
              "        cursor: pointer;\n",
              "        display: none;\n",
              "        fill: #1967D2;\n",
              "        height: 32px;\n",
              "        padding: 0 0 0 0;\n",
              "        width: 32px;\n",
              "      }\n",
              "\n",
              "      .colab-df-generate:hover {\n",
              "        background-color: #E2EBFA;\n",
              "        box-shadow: 0px 1px 2px rgba(60, 64, 67, 0.3), 0px 1px 3px 1px rgba(60, 64, 67, 0.15);\n",
              "        fill: #174EA6;\n",
              "      }\n",
              "\n",
              "      [theme=dark] .colab-df-generate {\n",
              "        background-color: #3B4455;\n",
              "        fill: #D2E3FC;\n",
              "      }\n",
              "\n",
              "      [theme=dark] .colab-df-generate:hover {\n",
              "        background-color: #434B5C;\n",
              "        box-shadow: 0px 1px 3px 1px rgba(0, 0, 0, 0.15);\n",
              "        filter: drop-shadow(0px 1px 2px rgba(0, 0, 0, 0.3));\n",
              "        fill: #FFFFFF;\n",
              "      }\n",
              "    </style>\n",
              "    <button class=\"colab-df-generate\" onclick=\"generateWithVariable('df')\"\n",
              "            title=\"Generate code using this dataframe.\"\n",
              "            style=\"display:none;\">\n",
              "\n",
              "  <svg xmlns=\"http://www.w3.org/2000/svg\" height=\"24px\"viewBox=\"0 0 24 24\"\n",
              "       width=\"24px\">\n",
              "    <path d=\"M7,19H8.4L18.45,9,17,7.55,7,17.6ZM5,21V16.75L18.45,3.32a2,2,0,0,1,2.83,0l1.4,1.43a1.91,1.91,0,0,1,.58,1.4,1.91,1.91,0,0,1-.58,1.4L9.25,21ZM18.45,9,17,7.55Zm-12,3A5.31,5.31,0,0,0,4.9,8.1,5.31,5.31,0,0,0,1,6.5,5.31,5.31,0,0,0,4.9,4.9,5.31,5.31,0,0,0,6.5,1,5.31,5.31,0,0,0,8.1,4.9,5.31,5.31,0,0,0,12,6.5,5.46,5.46,0,0,0,6.5,12Z\"/>\n",
              "  </svg>\n",
              "    </button>\n",
              "    <script>\n",
              "      (() => {\n",
              "      const buttonEl =\n",
              "        document.querySelector('#id_4ae4daea-631b-4e0e-812c-5247924a80bb button.colab-df-generate');\n",
              "      buttonEl.style.display =\n",
              "        google.colab.kernel.accessAllowed ? 'block' : 'none';\n",
              "\n",
              "      buttonEl.onclick = () => {\n",
              "        google.colab.notebook.generateWithVariable('df');\n",
              "      }\n",
              "      })();\n",
              "    </script>\n",
              "  </div>\n",
              "\n",
              "    </div>\n",
              "  </div>\n"
            ],
            "application/vnd.google.colaboratory.intrinsic+json": {
              "type": "dataframe",
              "variable_name": "df",
              "summary": "{\n  \"name\": \"df\",\n  \"rows\": 4,\n  \"fields\": [\n    {\n      \"column\": \"a\",\n      \"properties\": {\n        \"dtype\": \"number\",\n        \"std\": 2,\n        \"min\": 2,\n        \"max\": 8,\n        \"num_unique_values\": 4,\n        \"samples\": [\n          4,\n          8,\n          2\n        ],\n        \"semantic_type\": \"\",\n        \"description\": \"\"\n      }\n    },\n    {\n      \"column\": \"b\",\n      \"properties\": {\n        \"dtype\": \"number\",\n        \"std\": 2,\n        \"min\": 1,\n        \"max\": 7,\n        \"num_unique_values\": 4,\n        \"samples\": [\n          3,\n          7,\n          1\n        ],\n        \"semantic_type\": \"\",\n        \"description\": \"\"\n      }\n    }\n  ]\n}"
            }
          },
          "metadata": {},
          "execution_count": 10
        }
      ]
    },
    {
      "cell_type": "markdown",
      "source": [
        "If you run the next cell, you should see a scatter plot of the function y = x^2"
      ],
      "metadata": {
        "id": "wmFzdGc083PJ"
      }
    },
    {
      "cell_type": "code",
      "source": [
        "%pylab inline\n",
        "import matplotlib.pyplot as plt\n",
        "\n",
        "xs = range(-30, 31)\n",
        "ys = [x ** 2 for x in xs]\n",
        "\n",
        "plt.scatter(xs, ys)"
      ],
      "metadata": {
        "colab": {
          "base_uri": "https://localhost:8080/",
          "height": 465
        },
        "id": "-qC7xahQ84w2",
        "outputId": "cede0251-d9db-4746-834d-2a9007faace7"
      },
      "execution_count": 11,
      "outputs": [
        {
          "output_type": "stream",
          "name": "stdout",
          "text": [
            "Populating the interactive namespace from numpy and matplotlib\n"
          ]
        },
        {
          "output_type": "execute_result",
          "data": {
            "text/plain": [
              "<matplotlib.collections.PathCollection at 0x7c024f7027d0>"
            ]
          },
          "metadata": {},
          "execution_count": 11
        },
        {
          "output_type": "display_data",
          "data": {
            "text/plain": [
              "<Figure size 640x480 with 1 Axes>"
            ],
            "image/png": "[encoded data removed]"
          },
          "metadata": {}
        }
      ]
    },
    {
      "cell_type": "markdown",
      "source": [
        "### Creating cells\n",
        "\n",
        "To create a new **code cell**, click \"Insert > Insert Cell [Above or Below]\". A code cell will automatically be created.\n",
        "\n",
        "To create a new **markdown cell**, first follow the process above to create a code cell, then change the type from \"Code\" to \"Markdown\" using the dropdown next to the run, stop, and restart buttons."
      ],
      "metadata": {
        "id": "s-DuUKFF8835"
      }
    },
    {
      "cell_type": "markdown",
      "source": [
        "### Re-running cells\n",
        "\n",
        "If you find a bug in your code, you can always update the cell and re-run it. However, any cells that come afterward won't be automatically updated. Try it out below. First run each of the three cells. The first two don't have any output, but you will be able to tell they've run because a number will appear next to them, for example, \"In [5]\"."
      ],
      "metadata": {
        "id": "QxL-Mv5Q8_sn"
      }
    },
    {
      "cell_type": "code",
      "source": [
        "class_name = \"Intro to Data Analysis\""
      ],
      "metadata": {
        "id": "MLXpi9De9C5L"
      },
      "execution_count": 12,
      "outputs": []
    },
    {
      "cell_type": "code",
      "source": [
        "message = class_name + \" is great!!!!!!\""
      ],
      "metadata": {
        "id": "4kLv4EUt9EWf"
      },
      "execution_count": 13,
      "outputs": []
    },
    {
      "cell_type": "code",
      "source": [
        "message"
      ],
      "metadata": {
        "colab": {
          "base_uri": "https://localhost:8080/",
          "height": 35
        },
        "id": "wojcr_g49Fi5",
        "outputId": "0f9463c0-a539-4071-a17a-658a0330277e"
      },
      "execution_count": 14,
      "outputs": [
        {
          "output_type": "execute_result",
          "data": {
            "text/plain": [
              "'Intro to Data Analysis is great!!!!!!'"
            ],
            "application/vnd.google.colaboratory.intrinsic+json": {
              "type": "string"
            }
          },
          "metadata": {},
          "execution_count": 14
        }
      ]
    },
    {
      "cell_type": "markdown",
      "source": [
        "Once you've run all three cells, try modifying the first one to set `class_name` to your name, rather than \"Intro to Data Analysis\", so you can print that you are awesome.  Then rerun the first and third cells without rerunning the second.\n",
        "\n",
        "You should have seen that the third cell still printed \"Intro to Data Analysis is awesome!\"  That's because you didn't rerun the second cell, so even though the `class_name` variable was updated, the `message` variable was not.  Now try rerunning the second cell, and then the third.\n",
        "\n",
        "You should have seen the output change to \"*your name* is awesome!\"  Often, after changing a cell, you'll want to rerun all the cells below it.  You can do that quickly by clicking \"Run > Run Selected Cell and All Below\".\n",
        "\n",
        "One final thing to remember: if you shut down the kernel after saving your notebook, the cells' output will still show up as you left it at the end of your session when you start the notebook back up. However, the state of the kernel will be reset. If you are actively working on a notebook, remember to re-run your cells to set up your working environment to really pick up where you last left off."
      ],
      "metadata": {
        "id": "FI5dNDpd9Lk-"
      }
    },
    {
      "cell_type": "markdown",
      "source": [
        "# 3. Getting help"
      ],
      "metadata": {
        "id": "eo7ipEXf4zKi"
      }
    },
    {
      "cell_type": "markdown",
      "source": [
        "<div>\n",
        "<img src=\"images/help.PNG\" width=\"500\"/>\n",
        "</div>\n",
        "\n",
        "Based on the Python Data Science Handbook, [chapter 1](https://colab.research.google.com/github/jakevdp/PythonDataScienceHandbook/blob/master/notebooks/01.01-Help-And-Documentation.ipynb#scrollTo=AZ5zCKeKEO-x)\n",
        "\n",
        "help<br>\n",
        "?<br>\n",
        "??"
      ],
      "metadata": {
        "id": "dnp9MMvA_Qbg"
      }
    },
    {
      "cell_type": "code",
      "source": [
        "help(len)"
      ],
      "metadata": {
        "colab": {
          "base_uri": "https://localhost:8080/"
        },
        "id": "iaELDDYk48mB",
        "outputId": "119ad025-ae07-4ae1-c5e1-1dc5ff669d90"
      },
      "execution_count": 16,
      "outputs": [
        {
          "output_type": "stream",
          "name": "stdout",
          "text": [
            "Help on built-in function len in module builtins:\n",
            "\n",
            "len(obj, /)\n",
            "    Return the number of items in a container.\n",
            "\n"
          ]
        }
      ]
    },
    {
      "cell_type": "code",
      "source": [
        "len?"
      ],
      "metadata": {
        "id": "_l0XsUpO92sy"
      },
      "execution_count": 17,
      "outputs": []
    },
    {
      "cell_type": "code",
      "source": [
        "L = [1, 2, 3]\n",
        "L.insert?"
      ],
      "metadata": {
        "id": "FaBzBWEU95IG"
      },
      "execution_count": 18,
      "outputs": []
    },
    {
      "cell_type": "code",
      "source": [
        "L?"
      ],
      "metadata": {
        "id": "JwDV_aTf977E"
      },
      "execution_count": 19,
      "outputs": []
    },
    {
      "cell_type": "markdown",
      "source": [
        "This will even work for objects you create yourself:"
      ],
      "metadata": {
        "id": "Ta2dha6q-AzJ"
      }
    },
    {
      "cell_type": "code",
      "source": [
        "def square(a):\n",
        "    \"Return the square of a.\"\n",
        "    return a ** 2"
      ],
      "metadata": {
        "id": "uXXBXFF39-6F"
      },
      "execution_count": 21,
      "outputs": []
    },
    {
      "cell_type": "code",
      "source": [
        "square?"
      ],
      "metadata": {
        "id": "_8DaoZ5--E2c"
      },
      "execution_count": 22,
      "outputs": []
    },
    {
      "cell_type": "code",
      "source": [
        "square??"
      ],
      "metadata": {
        "id": "PaSUSsyt-Jz3"
      },
      "execution_count": 23,
      "outputs": []
    },
    {
      "cell_type": "markdown",
      "source": [
        "If the source code is implemented in python. If not, you won't see it."
      ],
      "metadata": {
        "id": "yoWrBItZ-Qf2"
      }
    },
    {
      "cell_type": "code",
      "source": [
        "len??"
      ],
      "metadata": {
        "id": "7P1AmlJr-N_m"
      },
      "execution_count": 24,
      "outputs": []
    },
    {
      "cell_type": "markdown",
      "source": [
        "### Tab completions"
      ],
      "metadata": {
        "id": "CAoW0Tu--2yd"
      }
    },
    {
      "cell_type": "code",
      "source": [
        "an_apple = 27\n",
        "\n",
        "an_example = 42"
      ],
      "metadata": {
        "id": "RM0ud8b8-zcJ"
      },
      "execution_count": 26,
      "outputs": []
    },
    {
      "cell_type": "markdown",
      "source": [
        "Now type `an` and press `tab`\n"
      ],
      "metadata": {
        "id": "kxuhcCXh-5EY"
      }
    },
    {
      "cell_type": "code",
      "source": [
        "#an_"
      ],
      "metadata": {
        "id": "FSXnroOF-56R"
      },
      "execution_count": 27,
      "outputs": []
    },
    {
      "cell_type": "markdown",
      "source": [
        "### Wildcards"
      ],
      "metadata": {
        "id": "Z0R01mS0_Dms"
      }
    },
    {
      "cell_type": "code",
      "source": [
        "str.*find*?"
      ],
      "metadata": {
        "id": "tKYH4NM7_Feh"
      },
      "execution_count": 28,
      "outputs": []
    },
    {
      "cell_type": "markdown",
      "source": [
        "# 4. Reserved words"
      ],
      "metadata": {
        "id": "F1DIulR644Ob"
      }
    },
    {
      "cell_type": "markdown",
      "source": [
        "## What Are Reserved Words?\n",
        "\n",
        "Reserved words (also known as **keywords**) in Python are special words that have predefined meanings and cannot be used as identifiers (variable names, function names, or other user-defined names). These words are part of the Python syntax and are essential for writing code.\n",
        "\n",
        "Using a reserved word as a variable name will result in a **SyntaxError**.\n",
        "\n",
        "---\n",
        "\n",
        "## List of Python Reserved Words\n",
        "\n",
        "Python has a set of reserved words that cannot be used for variable names. Here is the full list:\n",
        "\n"
      ],
      "metadata": {
        "id": "QkY6K_Gf-yD4"
      }
    },
    {
      "cell_type": "code",
      "source": [
        "False      await      else       import     pass\n",
        "None       break      except     in         raise\n",
        "True       class      finally    is         return\n",
        "and        continue   for        lambda     try\n",
        "as         def        from       nonlocal   while\n",
        "assert     del        global     not        with\n",
        "async      elif       if         or         yield\n"
      ],
      "metadata": {
        "id": "hZ7rHP5P42_x"
      },
      "execution_count": null,
      "outputs": []
    },
    {
      "cell_type": "code",
      "source": [
        "class = \"Data Science\"\n",
        "print(class)  # ❌ This will cause a SyntaxError!"
      ],
      "metadata": {
        "colab": {
          "base_uri": "https://localhost:8080/",
          "height": 106
        },
        "id": "ajw6cl2uCJdF",
        "outputId": "f142fdf6-307d-4b44-c563-f4fd0112fd5a"
      },
      "execution_count": 29,
      "outputs": [
        {
          "output_type": "error",
          "ename": "SyntaxError",
          "evalue": "invalid syntax (<ipython-input-29-fdd16d33b0b7>, line 1)",
          "traceback": [
            "\u001b[0;36m  File \u001b[0;32m\"<ipython-input-29-fdd16d33b0b7>\"\u001b[0;36m, line \u001b[0;32m1\u001b[0m\n\u001b[0;31m    class = \"Data Science\"\u001b[0m\n\u001b[0m          ^\u001b[0m\n\u001b[0;31mSyntaxError\u001b[0m\u001b[0;31m:\u001b[0m invalid syntax\n"
          ]
        }
      ]
    },
    {
      "cell_type": "code",
      "source": [
        "class_name = \"Data Science\"\n",
        "print(class_name)  # ✅ This is correct!\n"
      ],
      "metadata": {
        "colab": {
          "base_uri": "https://localhost:8080/"
        },
        "id": "-QeR3JjDCPAh",
        "outputId": "05cd22e2-7294-47b1-cc1a-e744cf0fd37b"
      },
      "execution_count": 30,
      "outputs": [
        {
          "output_type": "stream",
          "name": "stdout",
          "text": [
            "Data Science\n"
          ]
        }
      ]
    },
    {
      "cell_type": "markdown",
      "source": [
        "Python keywords are **case-sensitive**, meaning True and true are different. The following example shows a valid case:\n",
        "\n"
      ],
      "metadata": {
        "id": "ND2X3x0iCXab"
      }
    },
    {
      "cell_type": "code",
      "source": [
        "true = \"This is a string, not a keyword\"\n",
        "print(true)  # ✅ Works fine because \"true\" (lowercase) is not a reserved word\n"
      ],
      "metadata": {
        "colab": {
          "base_uri": "https://localhost:8080/"
        },
        "id": "4LJ2rBRZCjyc",
        "outputId": "b0495314-ff3e-49fb-b519-ea2bab22bfa7"
      },
      "execution_count": 31,
      "outputs": [
        {
          "output_type": "stream",
          "name": "stdout",
          "text": [
            "This is a string, not a keyword\n"
          ]
        }
      ]
    },
    {
      "cell_type": "code",
      "source": [
        "True = \"Invalid operation\"  # ❌ SyntaxError\n"
      ],
      "metadata": {
        "colab": {
          "base_uri": "https://localhost:8080/",
          "height": 106
        },
        "id": "dhO9oSrMCmAL",
        "outputId": "fa08e070-1217-4677-c3b9-daa215d22857"
      },
      "execution_count": 32,
      "outputs": [
        {
          "output_type": "error",
          "ename": "SyntaxError",
          "evalue": "cannot assign to True (<ipython-input-32-114771504312>, line 1)",
          "traceback": [
            "\u001b[0;36m  File \u001b[0;32m\"<ipython-input-32-114771504312>\"\u001b[0;36m, line \u001b[0;32m1\u001b[0m\n\u001b[0;31m    True = \"Invalid operation\"  # ❌ SyntaxError\u001b[0m\n\u001b[0m    ^\u001b[0m\n\u001b[0;31mSyntaxError\u001b[0m\u001b[0;31m:\u001b[0m cannot assign to True\n"
          ]
        }
      ]
    },
    {
      "cell_type": "markdown",
      "source": [
        "# 5. Assignment statements"
      ],
      "metadata": {
        "id": "tC3Mk1_G5BWj"
      }
    },
    {
      "cell_type": "markdown",
      "source": [
        "## What is an Assignment Statement?\n",
        "\n",
        "An **assignment statement** in Python is used to assign a value to a variable. It follows the basic syntax:\n",
        "\n",
        "\n",
        "\n",
        "```\n",
        "variable_name = value\n",
        "```\n",
        "\n",
        "\n"
      ],
      "metadata": {
        "id": "91LLRSttDTH7"
      }
    },
    {
      "cell_type": "markdown",
      "source": [
        "For example:"
      ],
      "metadata": {
        "id": "YdZm-zNxDhyW"
      }
    },
    {
      "cell_type": "code",
      "source": [
        "x = 10\n",
        "name = \"Python\"\n",
        "is_active = True\n"
      ],
      "metadata": {
        "id": "V98qH5ck5FgF"
      },
      "execution_count": 34,
      "outputs": []
    },
    {
      "cell_type": "markdown",
      "source": [
        "### Rules of Assignment Statements\n"
      ],
      "metadata": {
        "id": "VGBjVi43E2tW"
      }
    },
    {
      "cell_type": "markdown",
      "source": [
        "1. The left-hand side must be a valid variable name.\n"
      ],
      "metadata": {
        "id": "syaHAVlaE4OW"
      }
    },
    {
      "cell_type": "code",
      "source": [
        "10 = x  # ❌ Invalid: Left-hand side must be a variable\n"
      ],
      "metadata": {
        "colab": {
          "base_uri": "https://localhost:8080/",
          "height": 106
        },
        "id": "IcmkZDTYE64Y",
        "outputId": "2314d854-62fd-4e6c-be1c-311c02f2b039"
      },
      "execution_count": 35,
      "outputs": [
        {
          "output_type": "error",
          "ename": "SyntaxError",
          "evalue": "cannot assign to literal here. Maybe you meant '==' instead of '='? (<ipython-input-35-740abbcccd65>, line 1)",
          "traceback": [
            "\u001b[0;36m  File \u001b[0;32m\"<ipython-input-35-740abbcccd65>\"\u001b[0;36m, line \u001b[0;32m1\u001b[0m\n\u001b[0;31m    10 = x  # ❌ Invalid: Left-hand side must be a variable\u001b[0m\n\u001b[0m    ^\u001b[0m\n\u001b[0;31mSyntaxError\u001b[0m\u001b[0;31m:\u001b[0m cannot assign to literal here. Maybe you meant '==' instead of '='?\n"
          ]
        }
      ]
    },
    {
      "cell_type": "markdown",
      "source": [
        "2. The right-hand side can be any valid expression.\n"
      ],
      "metadata": {
        "id": "lFa3fEKWE-O3"
      }
    },
    {
      "cell_type": "code",
      "source": [
        "x = 5 + 3  # ✅ Valid\n",
        "y = \"Data \" + \"Science\"  # ✅ Valid\n"
      ],
      "metadata": {
        "id": "qqc8AFdDFBYG"
      },
      "execution_count": 36,
      "outputs": []
    },
    {
      "cell_type": "markdown",
      "source": [
        "3. Variables do not need explicit type declarations.\n"
      ],
      "metadata": {
        "id": "aLILsR4FFHF6"
      }
    },
    {
      "cell_type": "code",
      "source": [
        "num = 100  # Python infers that 'num' is an integer\n",
        "text = \"Hello\"  # Python infers that 'text' is a string\n"
      ],
      "metadata": {
        "id": "Qvz7-dGlFJHF"
      },
      "execution_count": 37,
      "outputs": []
    },
    {
      "cell_type": "markdown",
      "source": [
        "### Multiple Assignments\n"
      ],
      "metadata": {
        "id": "CWy8l9vSFLpn"
      }
    },
    {
      "cell_type": "markdown",
      "source": [
        "Python allows assigning values to multiple variables in a single line:"
      ],
      "metadata": {
        "id": "o2iYqMWQFRqd"
      }
    },
    {
      "cell_type": "code",
      "source": [
        "a, b, c = 1, 2, 3  # ✅ Assigns 1 to a, 2 to b, and 3 to c\n",
        "print(a, b, c)\n"
      ],
      "metadata": {
        "colab": {
          "base_uri": "https://localhost:8080/"
        },
        "id": "oRknGrF7FTon",
        "outputId": "c6e89efd-e680-4e8a-ae99-ed2a9b5655b0"
      },
      "execution_count": 38,
      "outputs": [
        {
          "output_type": "stream",
          "name": "stdout",
          "text": [
            "1 2 3\n"
          ]
        }
      ]
    },
    {
      "cell_type": "markdown",
      "source": [
        "You can also assign the same value to multiple variables:"
      ],
      "metadata": {
        "id": "M4t5QXFoFXs8"
      }
    },
    {
      "cell_type": "code",
      "source": [
        "x = y = z = 10  # ✅ All variables get the value 10\n",
        "print(x, y, z)\n"
      ],
      "metadata": {
        "colab": {
          "base_uri": "https://localhost:8080/"
        },
        "id": "Aso10qCOFaz6",
        "outputId": "976e8236-f4fb-4b65-d29a-49173aa85717"
      },
      "execution_count": 39,
      "outputs": [
        {
          "output_type": "stream",
          "name": "stdout",
          "text": [
            "10 10 10\n"
          ]
        }
      ]
    },
    {
      "cell_type": "markdown",
      "source": [
        "### Swapping Variables\n"
      ],
      "metadata": {
        "id": "NY2Sq6-aFdkI"
      }
    },
    {
      "cell_type": "markdown",
      "source": [
        "Python allows an elegant way to swap two variables without needing a temporary variable:\n"
      ],
      "metadata": {
        "id": "RMAIsAJTFg4u"
      }
    },
    {
      "cell_type": "code",
      "source": [
        "a, b = 5, 10\n",
        "a, b = b, a  # Swaps values of a and b\n",
        "print(a, b)  # Output: 10 5\n"
      ],
      "metadata": {
        "colab": {
          "base_uri": "https://localhost:8080/"
        },
        "id": "mIoiIok3FfU2",
        "outputId": "ecd1796c-3121-4cf1-cfef-fba7f5d8df07"
      },
      "execution_count": 40,
      "outputs": [
        {
          "output_type": "stream",
          "name": "stdout",
          "text": [
            "10 5\n"
          ]
        }
      ]
    },
    {
      "cell_type": "markdown",
      "source": [
        "### Chained Assignments"
      ],
      "metadata": {
        "id": "s8kODZ4tFlvC"
      }
    },
    {
      "cell_type": "markdown",
      "source": [
        "Python allows chained assignments, where multiple variables are assigned the same value:\n"
      ],
      "metadata": {
        "id": "EmHemfj8FocG"
      }
    },
    {
      "cell_type": "code",
      "source": [
        "x = y = z = 50  # ✅ All three variables hold the value 50\n",
        "print(x, y, z)\n"
      ],
      "metadata": {
        "colab": {
          "base_uri": "https://localhost:8080/"
        },
        "id": "3A4Ze3XPFnCj",
        "outputId": "ef49933e-403d-4e04-b810-afa36942c9a7"
      },
      "execution_count": 41,
      "outputs": [
        {
          "output_type": "stream",
          "name": "stdout",
          "text": [
            "50 50 50\n"
          ]
        }
      ]
    },
    {
      "cell_type": "markdown",
      "source": [
        "### Unpacking Assignments\n"
      ],
      "metadata": {
        "id": "m-MzoQtCFu3U"
      }
    },
    {
      "cell_type": "markdown",
      "source": [
        "Python supports unpacking values from a sequence into multiple variables:\n"
      ],
      "metadata": {
        "id": "n467SNPeFwSM"
      }
    },
    {
      "cell_type": "code",
      "source": [
        "values = [1, 2, 3]\n",
        "x, y, z = values  # ✅ Assigns 1 to x, 2 to y, 3 to z\n",
        "print(x, y, z)\n"
      ],
      "metadata": {
        "colab": {
          "base_uri": "https://localhost:8080/"
        },
        "id": "eqGd7H61GGUP",
        "outputId": "26525f8c-271a-40d3-97a3-57750dc236c6"
      },
      "execution_count": 42,
      "outputs": [
        {
          "output_type": "stream",
          "name": "stdout",
          "text": [
            "1 2 3\n"
          ]
        }
      ]
    },
    {
      "cell_type": "markdown",
      "source": [
        "### Common Errors\n"
      ],
      "metadata": {
        "id": "IMEf3t1ZGIvl"
      }
    },
    {
      "cell_type": "markdown",
      "source": [
        "1. Assigning to a Reserved Keyword\n"
      ],
      "metadata": {
        "id": "X_238021GLZ8"
      }
    },
    {
      "cell_type": "code",
      "source": [
        "if = 10  # ❌ SyntaxError: 'if' is a reserved keyword\n"
      ],
      "metadata": {
        "id": "pZwvyGn1GOxM"
      },
      "execution_count": null,
      "outputs": []
    },
    {
      "cell_type": "markdown",
      "source": [
        "2. Unpacking Error\n"
      ],
      "metadata": {
        "id": "UYNuDgYrGP-9"
      }
    },
    {
      "cell_type": "code",
      "source": [
        "x, y = [1, 2, 3]  # ❌ ValueError: Too many values to unpack\n"
      ],
      "metadata": {
        "colab": {
          "base_uri": "https://localhost:8080/",
          "height": 141
        },
        "id": "q5OjZapaGTEr",
        "outputId": "d236bf92-19c6-46e6-9d83-aa8bcba544fe"
      },
      "execution_count": 43,
      "outputs": [
        {
          "output_type": "error",
          "ename": "ValueError",
          "evalue": "too many values to unpack (expected 2)",
          "traceback": [
            "\u001b[0;31m---------------------------------------------------------------------------\u001b[0m",
            "\u001b[0;31mValueError\u001b[0m                                Traceback (most recent call last)",
            "\u001b[0;32m<ipython-input-43-846dc3459c8b>\u001b[0m in \u001b[0;36m<cell line: 0>\u001b[0;34m()\u001b[0m\n\u001b[0;32m----> 1\u001b[0;31m \u001b[0mx\u001b[0m\u001b[0;34m,\u001b[0m \u001b[0my\u001b[0m \u001b[0;34m=\u001b[0m \u001b[0;34m[\u001b[0m\u001b[0;36m1\u001b[0m\u001b[0;34m,\u001b[0m \u001b[0;36m2\u001b[0m\u001b[0;34m,\u001b[0m \u001b[0;36m3\u001b[0m\u001b[0;34m]\u001b[0m  \u001b[0;31m# ❌ ValueError: Too many values to unpack\u001b[0m\u001b[0;34m\u001b[0m\u001b[0;34m\u001b[0m\u001b[0m\n\u001b[0m",
            "\u001b[0;31mValueError\u001b[0m: too many values to unpack (expected 2)"
          ]
        }
      ]
    },
    {
      "cell_type": "markdown",
      "source": [
        "3. Assigning to a Literal\n"
      ],
      "metadata": {
        "id": "3pc5GVsvGV-P"
      }
    },
    {
      "cell_type": "code",
      "source": [
        "10 = x  # ❌ SyntaxError: Cannot assign to a literal\n"
      ],
      "metadata": {
        "colab": {
          "base_uri": "https://localhost:8080/",
          "height": 106
        },
        "id": "pnYvbYXSGXgH",
        "outputId": "56c602d9-13f9-42dc-bf57-d83a06d64f52"
      },
      "execution_count": 44,
      "outputs": [
        {
          "output_type": "error",
          "ename": "SyntaxError",
          "evalue": "cannot assign to literal here. Maybe you meant '==' instead of '='? (<ipython-input-44-1367df472359>, line 1)",
          "traceback": [
            "\u001b[0;36m  File \u001b[0;32m\"<ipython-input-44-1367df472359>\"\u001b[0;36m, line \u001b[0;32m1\u001b[0m\n\u001b[0;31m    10 = x  # ❌ SyntaxError: Cannot assign to a literal\u001b[0m\n\u001b[0m    ^\u001b[0m\n\u001b[0;31mSyntaxError\u001b[0m\u001b[0;31m:\u001b[0m cannot assign to literal here. Maybe you meant '==' instead of '='?\n"
          ]
        }
      ]
    },
    {
      "cell_type": "markdown",
      "source": [
        "\n",
        "\n",
        "***Key Takeaways***\n",
        "\n",
        "\n",
        "*   Assignment statements store values in variables.\n",
        "*   Python allows multiple, chained, and unpacking assignments.\n",
        "*   Reserved keywords cannot be used as variable names.\n",
        "*   Swapping variables and unpacking sequences make Python powerful.\n",
        "\n",
        "\n",
        "\n"
      ],
      "metadata": {
        "id": "cuv6588QGcV1"
      }
    },
    {
      "cell_type": "markdown",
      "source": [
        "# 6. Expression and operators"
      ],
      "metadata": {
        "id": "SrO_D-b05J40"
      }
    },
    {
      "cell_type": "markdown",
      "source": [
        "## What is an Expression?\n",
        "\n",
        "An **expression** in Python is any combination of literals, variables, and operators that can be evaluated to produce a value. In simple terms, an expression is something that returns a value.\n",
        "\n",
        "For example:\n",
        "\n",
        "\n",
        "```\n",
        "3 + 4        # This expression evaluates to 7\n",
        "x = 10       # The expression on the right, 10, evaluates to 10 and is assigned to x\n",
        "```\n",
        "\n"
      ],
      "metadata": {
        "id": "_LjqHJoHH_dR"
      }
    },
    {
      "cell_type": "markdown",
      "source": [
        "### Types of Operators"
      ],
      "metadata": {
        "id": "llsFN9aRIkH8"
      }
    },
    {
      "cell_type": "markdown",
      "source": [
        "1. Arithmetic Operators\n"
      ],
      "metadata": {
        "id": "uILFjW8oIpb7"
      }
    },
    {
      "cell_type": "markdown",
      "source": [
        "## Arithmetic Operators\n",
        "\n",
        "| Operator | Description               | Example              |\n",
        "|----------|---------------------------|----------------------|\n",
        "| `+`      | Addition                  | `3 + 2` returns `5`  |\n",
        "| `-`      | Subtraction               | `5 - 2` returns `3`  |\n",
        "| `*`      | Multiplication            | `3 * 4` returns `12` |\n",
        "| `/`      | Division                  | `10 / 2` returns `5.0`|\n",
        "| `%`      | Modulus (Remainder)       | `10 % 3` returns `1` |\n",
        "| `**`     | Exponentiation            | `2 ** 3` returns `8` |\n",
        "| `//`     | Floor Division            | `7 // 3` returns `2` |\n"
      ],
      "metadata": {
        "id": "CBWmgxAIItzL"
      }
    },
    {
      "cell_type": "code",
      "source": [
        "a = 10\n",
        "b = 3\n",
        "print(a + b)  # 13\n",
        "print(a % b)  # 1\n",
        "print(a ** b) # 1000\n"
      ],
      "metadata": {
        "colab": {
          "base_uri": "https://localhost:8080/"
        },
        "id": "WgSKN8CwIu3Y",
        "outputId": "7bbd1747-47e5-4a3b-fc0f-1f8c7ea0bd52"
      },
      "execution_count": 46,
      "outputs": [
        {
          "output_type": "stream",
          "name": "stdout",
          "text": [
            "13\n",
            "1\n",
            "1000\n"
          ]
        }
      ]
    },
    {
      "cell_type": "markdown",
      "source": [
        "2. Comparison (Relational) Operators\n"
      ],
      "metadata": {
        "id": "nZeN8NG6I3_t"
      }
    },
    {
      "cell_type": "markdown",
      "source": [
        "These operators compare two values and return a Boolean (True or False).\n",
        "\n"
      ],
      "metadata": {
        "id": "5lqf9DPhI9Dh"
      }
    },
    {
      "cell_type": "markdown",
      "source": [
        "\n",
        "## Comparison (Relational) Operators\n",
        "\n",
        "| Operator | Description                     | Example                   |\n",
        "|----------|---------------------------------|---------------------------|\n",
        "| `==`     | Equal to                        | `5 == 5` returns `True`   |\n",
        "| `!=`     | Not equal to                    | `5 != 3` returns `True`   |\n",
        "| `>`      | Greater than                    | `5 > 3` returns `True`    |\n",
        "| `<`      | Less than                       | `3 < 5` returns `True`    |\n",
        "| `>=`     | Greater than or equal to        | `5 >= 5` returns `True`   |\n",
        "| `<=`     | Less than or equal to           | `3 <= 5` returns `True`   |\n"
      ],
      "metadata": {
        "id": "kd5KMsouJBUT"
      }
    },
    {
      "cell_type": "code",
      "source": [
        "x = 10\n",
        "y = 20\n",
        "print(x < y)   # True\n",
        "print(x == y)  # False\n"
      ],
      "metadata": {
        "colab": {
          "base_uri": "https://localhost:8080/"
        },
        "id": "DNLShK_ZJEO9",
        "outputId": "782ece4e-3c89-4ee9-aaff-8604e7797be4"
      },
      "execution_count": 47,
      "outputs": [
        {
          "output_type": "stream",
          "name": "stdout",
          "text": [
            "True\n",
            "False\n"
          ]
        }
      ]
    },
    {
      "cell_type": "markdown",
      "source": [
        "3. Logical Operators"
      ],
      "metadata": {
        "id": "23TzmV_TJHRZ"
      }
    },
    {
      "cell_type": "markdown",
      "source": [
        "Logical operators are used to combine conditional statements.\n",
        "\n"
      ],
      "metadata": {
        "id": "gz3TPP41JJZ-"
      }
    },
    {
      "cell_type": "markdown",
      "source": [
        "## Logical Operators\n",
        "\n",
        "| Operator | Description | Example                            |\n",
        "|----------|-------------|------------------------------------|\n",
        "| `and`    | Logical AND | `True and False` returns `False`   |\n",
        "| `or`     | Logical OR  | `True or False` returns `True`     |\n",
        "| `not`    | Logical NOT | `not True` returns `False`         |\n"
      ],
      "metadata": {
        "id": "StK7HZQ0JNcN"
      }
    },
    {
      "cell_type": "code",
      "source": [
        "a = True\n",
        "b = False\n",
        "print(a and b)  # False\n",
        "print(a or b)   # True\n",
        "print(not a)    # False\n"
      ],
      "metadata": {
        "colab": {
          "base_uri": "https://localhost:8080/"
        },
        "id": "1U4R2YtFJOdb",
        "outputId": "d4397a97-fc20-4fa9-94bf-4b0a425fa90d"
      },
      "execution_count": 48,
      "outputs": [
        {
          "output_type": "stream",
          "name": "stdout",
          "text": [
            "False\n",
            "True\n",
            "False\n"
          ]
        }
      ]
    },
    {
      "cell_type": "markdown",
      "source": [
        "4. Assignment Operators"
      ],
      "metadata": {
        "id": "-vfsZa9hJR3I"
      }
    },
    {
      "cell_type": "markdown",
      "source": [
        "These operators are used to assign values to variables, and they often combine an arithmetic operation with assignment."
      ],
      "metadata": {
        "id": "n4GqoIrsJRax"
      }
    },
    {
      "cell_type": "markdown",
      "source": [
        "\n",
        "## Assignment Operators\n",
        "\n",
        "| Operator | Description                   | Example                                      |\n",
        "|----------|-------------------------------|----------------------------------------------|\n",
        "| `=`      | Assignment                    | `x = 5`                                      |\n",
        "| `+=`     | Addition assignment           | `x += 3` is equivalent to `x = x + 3`          |\n",
        "| `-=`     | Subtraction assignment        | `x -= 2` is equivalent to `x = x - 2`          |\n",
        "| `*=`     | Multiplication assignment     | `x *= 4` is equivalent to `x = x * 4`          |\n",
        "| `/=`     | Division assignment           | `x /= 2` is equivalent to `x = x / 2`          |\n",
        "| `%=`     | Modulus assignment            | `x %= 3` is equivalent to `x = x % 3`          |\n",
        "| `**=`    | Exponentiation assignment     | `x **= 2` is equivalent to `x = x ** 2`        |\n",
        "| `//=`    | Floor division assignment     | `x //= 2` is equivalent to `x = x // 2`        |\n"
      ],
      "metadata": {
        "id": "JLGYq0dpJVXK"
      }
    },
    {
      "cell_type": "code",
      "source": [
        "x = 5\n",
        "x += 3  # Now x becomes 8\n",
        "print(x)\n"
      ],
      "metadata": {
        "colab": {
          "base_uri": "https://localhost:8080/"
        },
        "id": "R_pCekzWJUt7",
        "outputId": "4c24d633-b614-4e16-8204-4dd01b1c1a80"
      },
      "execution_count": 49,
      "outputs": [
        {
          "output_type": "stream",
          "name": "stdout",
          "text": [
            "8\n"
          ]
        }
      ]
    },
    {
      "cell_type": "markdown",
      "source": [
        "5. Membership Operators\n"
      ],
      "metadata": {
        "id": "2vPVPfbTJce8"
      }
    },
    {
      "cell_type": "markdown",
      "source": [
        "These operators test whether a value is found in a sequence (like a list, tuple, or string).\n",
        "\n"
      ],
      "metadata": {
        "id": "wLov-agUJcbT"
      }
    },
    {
      "cell_type": "markdown",
      "source": [
        "## Membership Operators\n",
        "\n",
        "| Operator | Description                                  | Example                                  |\n",
        "|----------|----------------------------------------------|------------------------------------------|\n",
        "| `in`     | Returns `True` if a value is found           | `'a' in 'apple'` returns `True`          |\n",
        "| `not in` | Returns `True` if a value is not found       | `'b' not in 'apple'` returns `True`       |\n"
      ],
      "metadata": {
        "id": "wDsWMFf9Jidw"
      }
    },
    {
      "cell_type": "code",
      "source": [
        "fruits = ['apple', 'banana', 'cherry']\n",
        "print('banana' in fruits)    # True\n",
        "print('orange' not in fruits)  # True\n"
      ],
      "metadata": {
        "colab": {
          "base_uri": "https://localhost:8080/"
        },
        "id": "NvwRv6N4Jjrh",
        "outputId": "3a996a69-75c0-47aa-9fd9-7a775bf066cd"
      },
      "execution_count": 50,
      "outputs": [
        {
          "output_type": "stream",
          "name": "stdout",
          "text": [
            "True\n",
            "True\n"
          ]
        }
      ]
    },
    {
      "cell_type": "markdown",
      "source": [
        "6. Identity Operators\n"
      ],
      "metadata": {
        "id": "fHwP7mYyJosd"
      }
    },
    {
      "cell_type": "markdown",
      "source": [
        "These operators compare the memory locations of two objects.\n",
        "\n"
      ],
      "metadata": {
        "id": "XrqDnejnJoo7"
      }
    },
    {
      "cell_type": "markdown",
      "source": [
        "## Identity Operators\n",
        "\n",
        "| Operator | Description                                          | Example                                        |\n",
        "|----------|------------------------------------------------------|------------------------------------------------|\n",
        "| `is`     | Returns `True` if both variables refer to the same object | `x is y` returns `True` if x and y are the same object |\n",
        "| `is not` | Returns `True` if both variables do not refer to the same object | `x is not y` returns `True` if x and y are different objects |\n"
      ],
      "metadata": {
        "id": "bpYwVssiJsWk"
      }
    },
    {
      "cell_type": "code",
      "source": [
        "a = [1, 2, 3]\n",
        "b = a\n",
        "c = [1, 2, 3]\n",
        "print(a is b)       # True: a and b reference the same object\n",
        "print(a is c)       # False: a and c are different objects even though they have the same value\n"
      ],
      "metadata": {
        "colab": {
          "base_uri": "https://localhost:8080/"
        },
        "id": "nLRb_ZMTJyYL",
        "outputId": "13846f1c-b37d-42a4-853a-98f72098f9d7"
      },
      "execution_count": 51,
      "outputs": [
        {
          "output_type": "stream",
          "name": "stdout",
          "text": [
            "True\n",
            "False\n"
          ]
        }
      ]
    },
    {
      "cell_type": "markdown",
      "source": [
        "***Summary***\n",
        "\n",
        "\n",
        "*   Expressions are combinations of values, variables, and operators that evaluate to a value.\n",
        "*   Python supports various operators: arithmetic, comparison, logical, assignment, membership, and identity operators.\n",
        "*   Operator precedence determines the order in which parts of an expression are evaluated.\n",
        "*   Parentheses can be used to control evaluation order.\n",
        "\n",
        "\n",
        "\n",
        "\n",
        "\n",
        "\n",
        "\n"
      ],
      "metadata": {
        "id": "z4f8lDL2IwRD"
      }
    },
    {
      "cell_type": "markdown",
      "source": [
        "# 7. Introduction with variables and data structures"
      ],
      "metadata": {
        "id": "Xfvm0i7p5Pra"
      }
    },
    {
      "cell_type": "markdown",
      "source": [
        "## What is a Variable?\n",
        "\n",
        "A **variable** in Python is a named storage location used to store data. It acts as a container for values that can change during program execution.\n",
        "\n",
        "```\n",
        "x = 10  # Assigning an integer value to x\n",
        "name = \"Alice\"  # Assigning a string value\n",
        "is_active = True  # Assigning a boolean value\n",
        "```"
      ],
      "metadata": {
        "id": "FK23i9o0LdRT"
      }
    },
    {
      "cell_type": "markdown",
      "source": [
        "### Data Types in Python\n"
      ],
      "metadata": {
        "id": "HwWr-tZMLi8Z"
      }
    },
    {
      "cell_type": "markdown",
      "source": [
        "Python provides various built-in data types. The table below summarizes the most commonly used data types.\n",
        "\n"
      ],
      "metadata": {
        "id": "7VpEyulbLp8x"
      }
    },
    {
      "cell_type": "markdown",
      "source": [
        "| Data Type     | Description                                  | Example                      |\n",
        "|--------------|----------------------------------------------|------------------------------|\n",
        "| `int`        | Integer numbers                             | `x = 10`                     |\n",
        "| `float`      | Floating-point numbers                      | `pi = 3.14`                  |\n",
        "| `str`        | String (text)                               | `name = \"Alice\"`             |\n",
        "| `bool`       | Boolean values (`True` or `False`)         | `is_valid = True`            |\n",
        "| `list`       | Ordered, mutable collection                 | `fruits = [\"apple\", \"banana\"]` |\n",
        "| `tuple`      | Ordered, immutable collection               | `point = (4, 5)`             |\n",
        "| `dict`       | Collection of key-value pairs               | `person = {\"name\": \"Alice\", \"age\": 25}` |\n",
        "| `set`        | Unordered collection of unique values      | `unique_numbers = {1, 2, 3}` |\n"
      ],
      "metadata": {
        "id": "-vJpvKAELsCX"
      }
    },
    {
      "cell_type": "markdown",
      "source": [
        "Rules for Naming Variables: <br>\n",
        "\n",
        "\n",
        "1.   Must start with a letter or underscore (_).\n",
        "2.   Cannot start with a number.\n",
        "3.   Can contain letters, numbers, and underscores.\n",
        "4.   Case-sensitive (myVar and myvar are different).\n",
        "5.   Cannot use Python reserved keywords (if, for, while, etc.).\n",
        "\n",
        "\n",
        "\n",
        "\n",
        "\n",
        "\n",
        "\n",
        "\n"
      ],
      "metadata": {
        "id": "w4F-4u1oLwQe"
      }
    },
    {
      "cell_type": "markdown",
      "source": [
        "Valid examples:\n"
      ],
      "metadata": {
        "id": "fCOOpi4KMDfH"
      }
    },
    {
      "cell_type": "code",
      "source": [
        "age = 25\n",
        "_name = \"John\"\n",
        "user_123 = \"Alice\"\n"
      ],
      "metadata": {
        "id": "WetEacbl5ZnX"
      },
      "execution_count": 52,
      "outputs": []
    },
    {
      "cell_type": "markdown",
      "source": [
        "Invalid examples:\n",
        "\n"
      ],
      "metadata": {
        "id": "D9y1gcFkME3w"
      }
    },
    {
      "cell_type": "code",
      "source": [
        "3name = \"Alice\"  # Cannot start with a number\n",
        "user-name = \"John\"  # Cannot use special characters like `-`\n",
        "if = 5  # Cannot use reserved keywords\n"
      ],
      "metadata": {
        "colab": {
          "base_uri": "https://localhost:8080/",
          "height": 106
        },
        "id": "YjxIfck7MGsH",
        "outputId": "9bfc3fc5-5c9e-47dc-86b4-781ce2508f2f"
      },
      "execution_count": 53,
      "outputs": [
        {
          "output_type": "error",
          "ename": "SyntaxError",
          "evalue": "invalid decimal literal (<ipython-input-53-d665c04b049d>, line 1)",
          "traceback": [
            "\u001b[0;36m  File \u001b[0;32m\"<ipython-input-53-d665c04b049d>\"\u001b[0;36m, line \u001b[0;32m1\u001b[0m\n\u001b[0;31m    3name = \"Alice\"  # Cannot start with a number\u001b[0m\n\u001b[0m    ^\u001b[0m\n\u001b[0;31mSyntaxError\u001b[0m\u001b[0;31m:\u001b[0m invalid decimal literal\n"
          ]
        }
      ]
    },
    {
      "cell_type": "markdown",
      "source": [
        "## Data Structures in Python\n"
      ],
      "metadata": {
        "id": "TkUJoT2rMMFD"
      }
    },
    {
      "cell_type": "markdown",
      "source": [
        "Python provides built-in data structures for storing and managing collections of data.\n",
        "\n"
      ],
      "metadata": {
        "id": "DDx_RcwZMPHH"
      }
    },
    {
      "cell_type": "markdown",
      "source": [
        "1. Lists (Ordered, Mutable)\n"
      ],
      "metadata": {
        "id": "5vvIUbrDMRGR"
      }
    },
    {
      "cell_type": "markdown",
      "source": [
        "Lists store multiple items in a single variable and allow modifications.\n"
      ],
      "metadata": {
        "id": "iT5Tm3Y7MSxW"
      }
    },
    {
      "cell_type": "code",
      "source": [
        "fruits = [\"apple\", \"banana\", \"cherry\"]\n",
        "fruits.append(\"orange\")  # Adds \"orange\" to the list\n",
        "print(fruits[1])  # Accessing \"banana\"\n"
      ],
      "metadata": {
        "colab": {
          "base_uri": "https://localhost:8080/"
        },
        "id": "j8zT5ZXiMVPv",
        "outputId": "da278995-49c6-41ab-c679-6e56c25a4baa"
      },
      "execution_count": 54,
      "outputs": [
        {
          "output_type": "stream",
          "name": "stdout",
          "text": [
            "banana\n"
          ]
        }
      ]
    },
    {
      "cell_type": "markdown",
      "source": [
        "| Operation          | Description                         | Example                         |\n",
        "|--------------------|-------------------------------------|---------------------------------|\n",
        "| `append(value)`    | Adds an element to the end         | `fruits.append(\"grape\")`       |\n",
        "| `insert(index, value)` | Inserts element at a specific index | `fruits.insert(1, \"kiwi\")`  |\n",
        "| `remove(value)`    | Removes first occurrence of value  | `fruits.remove(\"banana\")`      |\n",
        "| `pop(index)`       | Removes and returns element at index | `fruits.pop(2)`               |\n",
        "| `sort()`          | Sorts the list in ascending order   | `fruits.sort()`                |\n"
      ],
      "metadata": {
        "id": "S6leVsUzMXKu"
      }
    },
    {
      "cell_type": "markdown",
      "source": [
        "2. Tuples (Ordered, Immutable)\n"
      ],
      "metadata": {
        "id": "vKxQKVG9MbW0"
      }
    },
    {
      "cell_type": "markdown",
      "source": [
        "Tuples are similar to lists but cannot be modified after creation.\n"
      ],
      "metadata": {
        "id": "B4yUWOgFMdHe"
      }
    },
    {
      "cell_type": "code",
      "source": [
        "coordinates = (10, 20)\n",
        "print(coordinates[0])  # Access first element\n"
      ],
      "metadata": {
        "colab": {
          "base_uri": "https://localhost:8080/"
        },
        "id": "AuVbjlhaMfUx",
        "outputId": "dc7954e7-55c9-4d99-a79f-2a8aa01445ce"
      },
      "execution_count": 55,
      "outputs": [
        {
          "output_type": "stream",
          "name": "stdout",
          "text": [
            "10\n"
          ]
        }
      ]
    },
    {
      "cell_type": "markdown",
      "source": [
        "| Operation   | Description                          | Example                      |\n",
        "|------------|--------------------------------------|------------------------------|\n",
        "| `count(value)` | Counts occurrences of a value     | `coordinates.count(10)`      |\n",
        "| `index(value)` | Returns index of first occurrence | `coordinates.index(20)`      |\n"
      ],
      "metadata": {
        "id": "KlffBs8yMhaB"
      }
    },
    {
      "cell_type": "markdown",
      "source": [
        "3. Dictionaries (Key-Value Pairs)\n"
      ],
      "metadata": {
        "id": "zyyZDVSiMj6Z"
      }
    },
    {
      "cell_type": "markdown",
      "source": [
        "Dictionaries store data in key-value pairs.\n",
        "\n"
      ],
      "metadata": {
        "id": "8zPFGVpjMl7Y"
      }
    },
    {
      "cell_type": "code",
      "source": [
        "student = {\"name\": \"Alice\", \"age\": 25, \"grade\": \"A\"}\n",
        "print(student[\"name\"])  # Output: Alice\n"
      ],
      "metadata": {
        "colab": {
          "base_uri": "https://localhost:8080/"
        },
        "id": "Urt1JUuMMpR7",
        "outputId": "c9917e91-2d3c-44fb-99f3-7992c402bbf3"
      },
      "execution_count": 56,
      "outputs": [
        {
          "output_type": "stream",
          "name": "stdout",
          "text": [
            "Alice\n"
          ]
        }
      ]
    },
    {
      "cell_type": "markdown",
      "source": [
        "| Operation         | Description                        | Example                         |\n",
        "|------------------|----------------------------------|---------------------------------|\n",
        "| `keys()`        | Returns all keys                  | `student.keys()`               |\n",
        "| `values()`      | Returns all values                | `student.values()`             |\n",
        "| `get(key)`      | Retrieves value for a key         | `student.get(\"age\")`           |\n",
        "| `update(dict)`  | Updates dictionary with new values | `student.update({\"age\": 26})`  |\n"
      ],
      "metadata": {
        "id": "Ch6Rrww-M4Ct"
      }
    },
    {
      "cell_type": "markdown",
      "source": [
        "4. Sets (Unordered, Unique Values)\n"
      ],
      "metadata": {
        "id": "l3Zz9Lu2M6Ku"
      }
    },
    {
      "cell_type": "markdown",
      "source": [
        "Sets store unique values and do not allow duplicates.\n"
      ],
      "metadata": {
        "id": "9eopFzZ-M8Ht"
      }
    },
    {
      "cell_type": "code",
      "source": [
        "unique_numbers = {1, 2, 3, 4, 4}\n",
        "print(unique_numbers)  # Output: {1, 2, 3, 4}\n"
      ],
      "metadata": {
        "colab": {
          "base_uri": "https://localhost:8080/"
        },
        "id": "i591pEBhM-VP",
        "outputId": "569f4999-2cb1-4b38-b60c-1b28d82876cf"
      },
      "execution_count": 57,
      "outputs": [
        {
          "output_type": "stream",
          "name": "stdout",
          "text": [
            "{1, 2, 3, 4}\n"
          ]
        }
      ]
    },
    {
      "cell_type": "markdown",
      "source": [
        "| Operation        | Description                         | Example                         |\n",
        "|-----------------|------------------------------------|---------------------------------|\n",
        "| `add(value)`    | Adds an element to the set        | `unique_numbers.add(5)`        |\n",
        "| `remove(value)` | Removes a specific element        | `unique_numbers.remove(2)`     |\n",
        "| `union(set)`    | Combines two sets                 | `set1.union(set2)`             |\n",
        "| `intersection(set)` | Returns common elements       | `set1.intersection(set2)`      |\n"
      ],
      "metadata": {
        "id": "AeS8GiuxNAk5"
      }
    },
    {
      "cell_type": "markdown",
      "source": [
        "# 8. Conversion of types"
      ],
      "metadata": {
        "id": "c-plArg45aGG"
      }
    },
    {
      "cell_type": "markdown",
      "source": [
        "## Implicit Type Conversion (Automatic Type Conversion)\n",
        "\n",
        "In Python, some data types can automatically be converted by the interpreter. This is known as **implicit type conversion**. It happens when you assign a smaller data type to a larger data type (e.g., integer to float).\n",
        "\n",
        "```\n",
        "x = 5  # int\n",
        "y = 2.5  # float\n",
        "z = x + y  # Implicit conversion of int to float\n",
        "print(z)  # Output: 7.5 (float)\n",
        "```"
      ],
      "metadata": {
        "id": "MDnO4mUuNVOS"
      }
    },
    {
      "cell_type": "markdown",
      "source": [
        "### Explicit Type Conversion (Manual Type Conversion)\n"
      ],
      "metadata": {
        "id": "Ud6IsS45NaFR"
      }
    },
    {
      "cell_type": "markdown",
      "source": [
        "Sometimes, we need to convert one data type to another manually. This is known as explicit type conversion and is done using Python's built-in functions like `int()`, `float()`, `str()`, etc.\n",
        "\n"
      ],
      "metadata": {
        "id": "HrJOiSXyNcT-"
      }
    },
    {
      "cell_type": "code",
      "source": [
        "x = \"100\"  # str\n",
        "y = int(x)  # Explicit conversion of string to integer\n",
        "print(y)  # Output: 100 (int)\n"
      ],
      "metadata": {
        "colab": {
          "base_uri": "https://localhost:8080/"
        },
        "id": "9V-0Klkx5dwL",
        "outputId": "a418c5cc-0a6b-4284-8cdc-ccebe476257c"
      },
      "execution_count": 58,
      "outputs": [
        {
          "output_type": "stream",
          "name": "stdout",
          "text": [
            "100\n"
          ]
        }
      ]
    },
    {
      "cell_type": "markdown",
      "source": [
        "### Conversion between Data Types\n"
      ],
      "metadata": {
        "id": "B47FeJg9NgFi"
      }
    },
    {
      "cell_type": "markdown",
      "source": [
        "| From Type      | To Type        | Function to Convert            | Example                                 |\n",
        "|----------------|----------------|---------------------------------|-----------------------------------------|\n",
        "| `int`          | `float`        | `float()`                       | `float(10)` → `10.0`                   |\n",
        "| `int`          | `str`          | `str()`                         | `str(100)` → `\"100\"`                   |\n",
        "| `float`        | `int`          | `int()`                         | `int(3.14)` → `3`                      |\n",
        "| `float`        | `str`          | `str()`                         | `str(3.14)` → `\"3.14\"`                 |\n",
        "| `str`          | `int`          | `int()`                         | `int(\"20\")` → `20`                     |\n",
        "| `str`          | `float`        | `float()`                       | `float(\"3.14\")` → `3.14`               |\n",
        "| `list`         | `tuple`        | `tuple()`                       | `tuple([1, 2, 3])` → `(1, 2, 3)`       |\n",
        "| `tuple`        | `list`         | `list()`                        | `list((1, 2, 3))` → `[1, 2, 3]`        |\n",
        "| `str`          | `list`         | `list()`                        | `list(\"hello\")` → `['h', 'e', 'l', 'l', 'o']` |\n",
        "| `list`         | `str`          | `''.join()`                     | `''.join(['h', 'e', 'l', 'l', 'o'])` → `\"hello\"` |\n",
        "| `set`          | `list`         | `list()`                        | `list({1, 2, 3})` → `[1, 2, 3]`        |\n",
        "| `list`         | `set`          | `set()`                         | `set([1, 2, 2, 3])` → `{1, 2, 3}`      |\n"
      ],
      "metadata": {
        "id": "QYSsnL46Nll3"
      }
    },
    {
      "cell_type": "markdown",
      "source": [
        "Converting int to float\n"
      ],
      "metadata": {
        "id": "8Ql9_3cuNpUc"
      }
    },
    {
      "cell_type": "code",
      "source": [
        "x = 10  # int\n",
        "y = float(x)  # Explicit conversion to float\n",
        "print(y)  # Output: 10.0\n"
      ],
      "metadata": {
        "colab": {
          "base_uri": "https://localhost:8080/"
        },
        "id": "ZE-UQAxYNjnB",
        "outputId": "0338c117-7050-43bd-bc85-63139d65d334"
      },
      "execution_count": 60,
      "outputs": [
        {
          "output_type": "stream",
          "name": "stdout",
          "text": [
            "10.0\n"
          ]
        }
      ]
    },
    {
      "cell_type": "markdown",
      "source": [
        "Converting str to int\n"
      ],
      "metadata": {
        "id": "EapKdh15Nt94"
      }
    },
    {
      "cell_type": "code",
      "source": [
        "x = \"123\"  # str\n",
        "y = int(x)  # Explicit conversion to int\n",
        "print(y)  # Output: 123\n"
      ],
      "metadata": {
        "colab": {
          "base_uri": "https://localhost:8080/"
        },
        "id": "snPQn9jzNrmi",
        "outputId": "980587fb-7d8d-4b1f-f317-ba3d353c94f7"
      },
      "execution_count": 61,
      "outputs": [
        {
          "output_type": "stream",
          "name": "stdout",
          "text": [
            "123\n"
          ]
        }
      ]
    },
    {
      "cell_type": "markdown",
      "source": [
        "Converting float to int\n"
      ],
      "metadata": {
        "id": "iDIZtez7Nxvw"
      }
    },
    {
      "cell_type": "code",
      "source": [
        "x = 3.75  # float\n",
        "y = int(x)  # Explicit conversion to int (loses the decimal part)\n",
        "print(y)  # Output: 3\n"
      ],
      "metadata": {
        "colab": {
          "base_uri": "https://localhost:8080/"
        },
        "id": "XFXBTsE6NvuV",
        "outputId": "07f58cc2-ed3a-4b53-e342-cd8c3bac9bd5"
      },
      "execution_count": 62,
      "outputs": [
        {
          "output_type": "stream",
          "name": "stdout",
          "text": [
            "3\n"
          ]
        }
      ]
    },
    {
      "cell_type": "markdown",
      "source": [
        "### Additional Functions for Conversion\n"
      ],
      "metadata": {
        "id": "ZepmdmX0N42U"
      }
    },
    {
      "cell_type": "markdown",
      "source": [
        "`bool()` <br>\n",
        "Converts a value to a boolean."
      ],
      "metadata": {
        "id": "f92AB8asN8Rm"
      }
    },
    {
      "cell_type": "code",
      "source": [
        "print(bool(0))  # Output: False\n",
        "print(bool(1))  # Output: True\n",
        "print(bool(\"\"))  # Output: False\n",
        "print(bool(\"hello\"))  # Output: True\n"
      ],
      "metadata": {
        "colab": {
          "base_uri": "https://localhost:8080/"
        },
        "id": "QC3HFiWXN1cf",
        "outputId": "f8989dd1-acdd-46ce-c888-f15b43d53436"
      },
      "execution_count": 63,
      "outputs": [
        {
          "output_type": "stream",
          "name": "stdout",
          "text": [
            "False\n",
            "True\n",
            "False\n",
            "True\n"
          ]
        }
      ]
    },
    {
      "cell_type": "markdown",
      "source": [
        "`complex()` <br>\n",
        "Converts a value to a complex number."
      ],
      "metadata": {
        "id": "gOh9rc7_OYZS"
      }
    },
    {
      "cell_type": "code",
      "source": [
        "x = 3\n",
        "y = complex(x)  # Converts to complex number\n",
        "print(y)  # Output: (3+0j)\n"
      ],
      "metadata": {
        "colab": {
          "base_uri": "https://localhost:8080/"
        },
        "id": "Vg-lcCHcOWN5",
        "outputId": "5d129fbd-58e3-4601-8741-6fafde3188ee"
      },
      "execution_count": 64,
      "outputs": [
        {
          "output_type": "stream",
          "name": "stdout",
          "text": [
            "(3+0j)\n"
          ]
        }
      ]
    },
    {
      "cell_type": "markdown",
      "source": [
        "***Conclusion*** <br>\n",
        "In Python, you can implicitly and explicitly convert between various data types using built-in functions. Understanding how and when to perform type conversion is essential for effective data manipulation."
      ],
      "metadata": {
        "id": "GwXxHLUROri0"
      }
    }
  ]
}