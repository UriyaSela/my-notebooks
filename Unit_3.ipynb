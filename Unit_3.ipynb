{
  "nbformat": 4,
  "nbformat_minor": 0,
  "metadata": {
    "colab": {
      "provenance": [],
      "collapsed_sections": [
        "pkwxs6DHlDWo",
        "1oNERFvQjAR9",
        "STtoycU-k_vK",
        "jvg3LJxSWmG3",
        "fdywZLdqsxoP",
        "G19KACpqvaPb"
      ],
      "authorship_tag": "ABX9TyPvQTJgWdSFnMbHKs9E1GAT",
      "include_colab_link": true
    },
    "kernelspec": {
      "name": "python3",
      "display_name": "Python 3"
    },
    "language_info": {
      "name": "python"
    }
  },
  "cells": [
    {
      "cell_type": "markdown",
      "metadata": {
        "id": "view-in-github",
        "colab_type": "text"
      },
      "source": [
        "<a href=\"https://colab.research.google.com/github/UriyaSela/my-notebooks/blob/main/Unit_3.ipynb\" target=\"_parent\"><img src=\"https://colab.research.google.com/assets/colab-badge.svg\" alt=\"Open In Colab\"/></a>"
      ]
    },
    {
      "cell_type": "markdown",
      "source": [
        "# Lesson: Lists"
      ],
      "metadata": {
        "id": "pkwxs6DHlDWo"
      }
    },
    {
      "cell_type": "markdown",
      "source": [
        "## **Basic List Operations**  \n",
        "\n",
        "### **Introduction**  \n",
        "A **list** in Python is an ordered, mutable collection that can store multiple values. Lists are versatile and can contain different data types.  \n",
        "\n",
        "\n",
        "\n",
        "> can see more here:\n",
        "\n",
        "https://docs.python.org/3/tutorial/datastructures.html\n",
        "\n",
        "---\n",
        "\n",
        "\n"
      ],
      "metadata": {
        "id": "1oNERFvQjAR9"
      }
    },
    {
      "cell_type": "code",
      "execution_count": null,
      "metadata": {
        "colab": {
          "base_uri": "https://localhost:8080/"
        },
        "id": "WoE7pQ6ei9g4",
        "outputId": "777157fc-2153-44e7-bcf3-5f9b13f631f4"
      },
      "outputs": [
        {
          "output_type": "stream",
          "name": "stdout",
          "text": [
            "['Apple', 'Banana', 'Cherry', 'Date', 'Elderberry']\n"
          ]
        }
      ],
      "source": [
        "# Creating a simple list\n",
        "fruits = [\"Apple\", \"Banana\", \"Cherry\", \"Date\", \"Elderberry\"]\n",
        "print(fruits)"
      ]
    },
    {
      "cell_type": "markdown",
      "source": [
        "### Accessing Elements"
      ],
      "metadata": {
        "id": "bIrGVVTejNCf"
      }
    },
    {
      "cell_type": "code",
      "source": [
        "# Accessing elements using index\n",
        "print(fruits[0])  # First element\n",
        "print(fruits[-1])  # Last element\n"
      ],
      "metadata": {
        "colab": {
          "base_uri": "https://localhost:8080/"
        },
        "id": "WUAbkPebjHI5",
        "outputId": "1d499699-7b8e-4a41-8a45-1518ea90771d"
      },
      "execution_count": null,
      "outputs": [
        {
          "output_type": "stream",
          "name": "stdout",
          "text": [
            "Apple\n",
            "Elderberry\n"
          ]
        }
      ]
    },
    {
      "cell_type": "markdown",
      "source": [
        "### Modifying Elements"
      ],
      "metadata": {
        "id": "QQc3G_nYjSVo"
      }
    },
    {
      "cell_type": "code",
      "source": [
        "fruits[1] = \"Mango\"  # Replacing \"Banana\" with \"Mango\"\n",
        "print(fruits)\n"
      ],
      "metadata": {
        "colab": {
          "base_uri": "https://localhost:8080/"
        },
        "id": "FXQjqzlPjQrC",
        "outputId": "172ff2db-45ca-4f62-bac2-2f07484e528b"
      },
      "execution_count": null,
      "outputs": [
        {
          "output_type": "stream",
          "name": "stdout",
          "text": [
            "['Apple', 'Mango', 'Cherry', 'Date', 'Elderberry']\n"
          ]
        }
      ]
    },
    {
      "cell_type": "markdown",
      "source": [
        "### Adding Elements"
      ],
      "metadata": {
        "id": "O2o-bmHfjYla"
      }
    },
    {
      "cell_type": "code",
      "source": [
        "fruits.append(\"Fig\")  # Adds \"Fig\" to the end\n",
        "print(fruits)\n",
        "\n",
        "fruits.insert(2, \"Blueberry\")  # Inserts \"Blueberry\" at index 2\n",
        "print(fruits)\n"
      ],
      "metadata": {
        "colab": {
          "base_uri": "https://localhost:8080/"
        },
        "id": "K1qYIOOyjVGX",
        "outputId": "fe94a9aa-4fca-4334-abea-c161cd3b96b9"
      },
      "execution_count": null,
      "outputs": [
        {
          "output_type": "stream",
          "name": "stdout",
          "text": [
            "['Apple', 'Mango', 'Cherry', 'Date', 'Elderberry', 'Fig']\n",
            "['Apple', 'Mango', 'Blueberry', 'Cherry', 'Date', 'Elderberry', 'Fig']\n"
          ]
        }
      ]
    },
    {
      "cell_type": "markdown",
      "source": [
        "### Removing Elements"
      ],
      "metadata": {
        "id": "nCBK1Ie9jbHl"
      }
    },
    {
      "cell_type": "code",
      "source": [
        "fruits.remove(\"Cherry\")  # Removes \"Cherry\"\n",
        "print(fruits)\n",
        "\n",
        "popped_fruit = fruits.pop()  # Removes and returns the last element\n",
        "print(popped_fruit)\n"
      ],
      "metadata": {
        "colab": {
          "base_uri": "https://localhost:8080/"
        },
        "id": "MLlN56kpjac3",
        "outputId": "2ec07e89-a672-434a-bb1d-ef50b472ceee"
      },
      "execution_count": null,
      "outputs": [
        {
          "output_type": "stream",
          "name": "stdout",
          "text": [
            "['Apple', 'Mango', 'Blueberry', 'Date', 'Elderberry', 'Fig']\n",
            "Fig\n"
          ]
        }
      ]
    },
    {
      "cell_type": "markdown",
      "source": [
        "### List Slicing"
      ],
      "metadata": {
        "id": "HNqUHtBmkJRI"
      }
    },
    {
      "cell_type": "code",
      "source": [
        "print(fruits[1:4])  # Get elements from index 1 to 3\n",
        "print(fruits[:3])  # Get first 3 elements\n",
        "print(fruits[::2])  # Get every second element\n"
      ],
      "metadata": {
        "colab": {
          "base_uri": "https://localhost:8080/"
        },
        "id": "47rkm6b6jfPk",
        "outputId": "9814cb45-8e7d-4bde-d7cf-a784de1e10cc"
      },
      "execution_count": null,
      "outputs": [
        {
          "output_type": "stream",
          "name": "stdout",
          "text": [
            "['Mango', 'Blueberry', 'Date']\n",
            "['Apple', 'Mango', 'Blueberry']\n",
            "['Apple', 'Blueberry', 'Elderberry']\n"
          ]
        }
      ]
    },
    {
      "cell_type": "markdown",
      "source": [
        "### Practice Questions\n"
      ],
      "metadata": {
        "id": "Ex_r5nqVkPYt"
      }
    },
    {
      "cell_type": "markdown",
      "source": [
        "1. Create a list of five colors and print them.\n",
        "2. Replace the third color with \"Purple\" and print the updated list.\n",
        "3. Add \"Cyan\" to the list using append() and \"Magenta\" at index 2 using insert().\n",
        "4. Remove the last element from the list and store it in a variable, then print it."
      ],
      "metadata": {
        "id": "hDMlX8yNkSUc"
      }
    },
    {
      "cell_type": "code",
      "source": [],
      "metadata": {
        "id": "1iwQEcYfkL5-"
      },
      "execution_count": null,
      "outputs": []
    },
    {
      "cell_type": "markdown",
      "source": [
        "### **Creating a List**"
      ],
      "metadata": {
        "id": "noTH1vdHWsU-"
      }
    },
    {
      "cell_type": "markdown",
      "source": [
        "## **Working with Mixed Data Types in Lists**\n",
        "\n",
        "A list can contain different types of data, including **integers, strings, booleans, tuples, and even other lists**.\n",
        "\n",
        "---\n",
        "\n"
      ],
      "metadata": {
        "id": "STtoycU-k_vK"
      }
    },
    {
      "cell_type": "markdown",
      "source": [
        "### **Creating a Mixed List**"
      ],
      "metadata": {
        "id": "jvg3LJxSWmG3"
      }
    },
    {
      "cell_type": "code",
      "source": [
        "mixed_list = [42, \"Hello\", True, 3.14, (1, 2, 3), [10, 20, 30]]\n",
        "print(mixed_list)"
      ],
      "metadata": {
        "colab": {
          "base_uri": "https://localhost:8080/"
        },
        "id": "1jkFcivzlApV",
        "outputId": "dbc34d0c-ce4a-441f-f2a3-9f0b59558b65"
      },
      "execution_count": null,
      "outputs": [
        {
          "output_type": "stream",
          "name": "stdout",
          "text": [
            "[42, 'Hello', True, 3.14, (1, 2, 3), [10, 20, 30]]\n"
          ]
        }
      ]
    },
    {
      "cell_type": "markdown",
      "source": [
        "### Accessing Nested Elements\n"
      ],
      "metadata": {
        "id": "MoZ2G-edlOXc"
      }
    },
    {
      "cell_type": "code",
      "source": [
        "print(mixed_list[1])  # Accessing \"Hello\"\n",
        "print(mixed_list[4][1])  # Accessing second element in tuple (1, 2, 3)\n",
        "print(mixed_list[5][0])  # Accessing first element in nested list [10, 20, 30]\n"
      ],
      "metadata": {
        "colab": {
          "base_uri": "https://localhost:8080/"
        },
        "id": "DX0AEyoAlL5e",
        "outputId": "2ebd3d63-29d8-411e-a2bf-b0a0d2fdbe18"
      },
      "execution_count": null,
      "outputs": [
        {
          "output_type": "stream",
          "name": "stdout",
          "text": [
            "Hello\n",
            "2\n",
            "10\n"
          ]
        }
      ]
    },
    {
      "cell_type": "markdown",
      "source": [
        "### Modifying Nested Lists"
      ],
      "metadata": {
        "id": "F9HM9JO3lWka"
      }
    },
    {
      "cell_type": "code",
      "source": [
        "mixed_list[5][1] = 99  # Changing the second element of the nested list\n",
        "print(mixed_list)\n"
      ],
      "metadata": {
        "colab": {
          "base_uri": "https://localhost:8080/"
        },
        "id": "48ZPjaphlRp2",
        "outputId": "a316e1f2-0fbf-47e2-d32a-08650a63d0d3"
      },
      "execution_count": null,
      "outputs": [
        {
          "output_type": "stream",
          "name": "stdout",
          "text": [
            "[42, 'Hello', True, 3.14, (1, 2, 3), [10, 99, 30]]\n"
          ]
        }
      ]
    },
    {
      "cell_type": "markdown",
      "source": [
        "### Using List Comprehension"
      ],
      "metadata": {
        "id": "Ew1ZfhccleAW"
      }
    },
    {
      "cell_type": "code",
      "source": [
        "numbers = [1, 2, 3, 4, 5]\n",
        "squared_numbers = [num ** 2 for num in numbers]  # Squaring each number\n",
        "print(squared_numbers)\n"
      ],
      "metadata": {
        "colab": {
          "base_uri": "https://localhost:8080/"
        },
        "id": "Dvu-0cy2lbIE",
        "outputId": "dce2ee67-455f-4fac-d9e7-606a8c741f9c"
      },
      "execution_count": null,
      "outputs": [
        {
          "output_type": "stream",
          "name": "stdout",
          "text": [
            "[1, 4, 9, 16, 25]\n"
          ]
        }
      ]
    },
    {
      "cell_type": "markdown",
      "source": [
        "### Filtering Lists"
      ],
      "metadata": {
        "id": "qettne1Wlijr"
      }
    },
    {
      "cell_type": "code",
      "source": [
        "filtered_numbers = [num for num in numbers if num % 2 == 0]  # Keeping only even numbers\n",
        "print(filtered_numbers)\n"
      ],
      "metadata": {
        "colab": {
          "base_uri": "https://localhost:8080/"
        },
        "id": "l1tIUFQNlgfN",
        "outputId": "42a125a1-c683-40e4-8563-f8c143a24b40"
      },
      "execution_count": null,
      "outputs": [
        {
          "output_type": "stream",
          "name": "stdout",
          "text": [
            "[2, 4]\n"
          ]
        }
      ]
    },
    {
      "cell_type": "markdown",
      "source": [
        "### Sorting Lists with Different Criteria"
      ],
      "metadata": {
        "id": "4kN05ybvmSfP"
      }
    },
    {
      "cell_type": "code",
      "source": [
        "words = [\"banana\", \"apple\", \"cherry\", \"date\"]\n",
        "words.sort()  # Alphabetical order\n",
        "print(words)\n",
        "\n",
        "numbers = [10, 3, 25, 7, 1]\n",
        "numbers.sort(reverse=True)  # Descending order\n",
        "print(numbers)\n"
      ],
      "metadata": {
        "colab": {
          "base_uri": "https://localhost:8080/"
        },
        "id": "f1XcBbbDmI7G",
        "outputId": "8755a40c-ec95-4387-cb4d-a27af88f4376"
      },
      "execution_count": null,
      "outputs": [
        {
          "output_type": "stream",
          "name": "stdout",
          "text": [
            "['apple', 'banana', 'cherry', 'date']\n",
            "[25, 10, 7, 3, 1]\n"
          ]
        }
      ]
    },
    {
      "cell_type": "markdown",
      "source": [
        "### Practice Questions"
      ],
      "metadata": {
        "id": "VCPXCswamY9L"
      }
    },
    {
      "cell_type": "markdown",
      "source": [
        "1. Create a list containing: an integer, a string, a boolean, a float, and a tuple.\n",
        "2. Print the third element of the list.\n",
        "3. Modify the first element of the list and print the updated list.\n",
        "4. Create a list of numbers and use list comprehension to create a new list with only numbers greater than 10.\n",
        "5. Sort a list of words in descending order and print it."
      ],
      "metadata": {
        "id": "eswlmIBImhMi"
      }
    },
    {
      "cell_type": "code",
      "source": [],
      "metadata": {
        "id": "tVJ618SQmV3_"
      },
      "execution_count": null,
      "outputs": []
    },
    {
      "cell_type": "markdown",
      "source": [
        "## Advanced List Operations: Real-World Use Cases  \n"
      ],
      "metadata": {
        "id": "fdywZLdqsxoP"
      }
    },
    {
      "cell_type": "markdown",
      "source": [
        "### **Scenario 1: Processing E-commerce Orders**  \n",
        "Imagine you are working with an e-commerce dataset where orders are stored as nested lists, containing order ID, customer name, and a list of purchased items.\n",
        "### **Task: Flattening & Processing Orders**\n",
        "\n"
      ],
      "metadata": {
        "id": "HN0Keh0es4RG"
      }
    },
    {
      "cell_type": "code",
      "source": [
        "orders = [\n",
        "    [101, \"Alice\", [\"Laptop\", \"Mouse\"]],\n",
        "    [102, \"Bob\", [\"Keyboard\", \"Monitor\", \"Mousepad\"]],\n",
        "    [103, \"Charlie\", [\"Phone\", \"Charger\", \"Headphones\"]],\n",
        "]\n",
        "orders"
      ],
      "metadata": {
        "colab": {
          "base_uri": "https://localhost:8080/"
        },
        "id": "XtdTSt7UrtyQ",
        "outputId": "438ecf3b-7263-42bc-b30d-b2ce7aa08871"
      },
      "execution_count": null,
      "outputs": [
        {
          "output_type": "execute_result",
          "data": {
            "text/plain": [
              "[[101, 'Alice', ['Laptop', 'Mouse']],\n",
              " [102, 'Bob', ['Keyboard', 'Monitor', 'Mousepad']],\n",
              " [103, 'Charlie', ['Phone', 'Charger', 'Headphones']]]"
            ]
          },
          "metadata": {},
          "execution_count": 28
        }
      ]
    },
    {
      "cell_type": "code",
      "source": [
        "# Flatten the items purchased by all customers\n",
        "purchased_items = [item for order in orders for item in order[2]]\n",
        "print(f'purchased_items: {purchased_items}')\n",
        "# Count the frequency of each item\n",
        "from collections import Counter\n",
        "# Counter?\n",
        "item_counts = Counter(purchased_items)\n",
        "\n",
        "print(\"Item Purchase Frequency:\", item_counts)"
      ],
      "metadata": {
        "colab": {
          "base_uri": "https://localhost:8080/"
        },
        "id": "r82sNcJwtAlE",
        "outputId": "aedbf076-faf3-41d0-858c-f396267316df"
      },
      "execution_count": null,
      "outputs": [
        {
          "output_type": "stream",
          "name": "stdout",
          "text": [
            "purchased_items: ['Laptop', 'Mouse', 'Keyboard', 'Monitor', 'Mousepad', 'Phone', 'Charger', 'Headphones']\n",
            "Item Purchase Frequency: Counter({'Laptop': 1, 'Mouse': 1, 'Keyboard': 1, 'Monitor': 1, 'Mousepad': 1, 'Phone': 1, 'Charger': 1, 'Headphones': 1})\n"
          ]
        }
      ]
    },
    {
      "cell_type": "markdown",
      "source": [
        "### Scenario 2: Analyzing Sensor Data\n",
        "You receive data from multiple IoT sensors.\n",
        "\n",
        "Each sensor provides multiple readings throughout the day,\n",
        "and you need to analyze them."
      ],
      "metadata": {
        "id": "tMeFCgt4tioy"
      }
    },
    {
      "cell_type": "markdown",
      "source": [
        "#### Task: Filtering & Aggregating Sensor Readings\n"
      ],
      "metadata": {
        "id": "T5bgHlnMtunK"
      }
    },
    {
      "cell_type": "code",
      "source": [
        "sensor_readings = [\n",
        "    {\"sensor_id\": 1, \"readings\": [22.5, 23.0, 22.8, 23.1]},\n",
        "    {\"sensor_id\": 2, \"readings\": [19.8, 20.1, 19.5, 20.0]},\n",
        "    {\"sensor_id\": 3, \"readings\": [25.0, 24.8, 25.2, 24.9]},\n",
        "]\n",
        "\n",
        "# Extract all readings\n",
        "all_readings = [reading for sensor in sensor_readings for reading in sensor[\"readings\"]]\n",
        "print(all_readings)\n",
        "\n",
        "# Find average temperature across all sensors\n",
        "average_temp = sum(all_readings) / len(all_readings)\n",
        "print(f\"Average Temperature: {average_temp:.2f}°C\")\n"
      ],
      "metadata": {
        "colab": {
          "base_uri": "https://localhost:8080/"
        },
        "id": "2CP-FA9HtEXJ",
        "outputId": "5ffd75d0-861e-4510-8407-5cfee3a1cb7a"
      },
      "execution_count": null,
      "outputs": [
        {
          "output_type": "stream",
          "name": "stdout",
          "text": [
            "[22.5, 23.0, 22.8, 23.1, 19.8, 20.1, 19.5, 20.0, 25.0, 24.8, 25.2, 24.9]\n",
            "Average Temperature: 22.56°C\n"
          ]
        }
      ]
    },
    {
      "cell_type": "markdown",
      "source": [
        "### Scenario 3: Cleaning & Normalizing User Input Data\n"
      ],
      "metadata": {
        "id": "3wJvZUiGuBVP"
      }
    },
    {
      "cell_type": "markdown",
      "source": [
        "You receive messy user input, and you need to clean and normalize it.\n",
        "\n",
        "####Task: Cleaning Data Entries"
      ],
      "metadata": {
        "id": "61_g6A2_uEGb"
      }
    },
    {
      "cell_type": "code",
      "source": [
        "raw_user_inputs = [\n",
        "    [\"  Alice   \", \"Engineer\", \"  28\"],\n",
        "    [\"BOB\", \" Data Scientist  \", \"35 \"],\n",
        "    [\" charlie  \", \" Doctor \", \"40\"],\n",
        "]\n",
        "\n",
        "# Clean and normalize the data\n",
        "cleaned_data = []\n",
        "for row in raw_user_inputs:\n",
        "    cleaned_row = []\n",
        "    for entry in row:\n",
        "        if isinstance(entry, str):\n",
        "            cleaned_row.append(entry.strip().title())\n",
        "        else:\n",
        "            cleaned_row.append(entry)\n",
        "    cleaned_data.append(cleaned_row)\n",
        "\n",
        "print(cleaned_data)\n"
      ],
      "metadata": {
        "colab": {
          "base_uri": "https://localhost:8080/"
        },
        "id": "PRbwhWIat6pc",
        "outputId": "52be8bab-a365-4312-ba13-30181dd3c0df"
      },
      "execution_count": null,
      "outputs": [
        {
          "output_type": "stream",
          "name": "stdout",
          "text": [
            "[['Alice', 'Engineer', '28'], ['Bob', 'Data Scientist', '35'], ['Charlie', 'Doctor', '40']]\n"
          ]
        }
      ]
    },
    {
      "cell_type": "markdown",
      "source": [
        "### Scenario 4: Filtering Social Media Comments\n"
      ],
      "metadata": {
        "id": "_ND329Sfufy8"
      }
    },
    {
      "cell_type": "markdown",
      "source": [
        "You have a list of comments from a social media post, and you need to filter out spam messages and identify trending words.\n",
        "\n",
        "#### Task: Removing Spam & Extracting Popular Words"
      ],
      "metadata": {
        "id": "KpB2K_rWuh5p"
      }
    },
    {
      "cell_type": "code",
      "source": [
        "comments = [\n",
        "    \"Check out this AMAZING offer!!!\",\n",
        "    \"Great post! I really enjoyed reading it.\",\n",
        "    \"Follow me for free giveaways! Click here!\",\n",
        "    \"This is very insightful, thanks for sharing!\",\n",
        "    \"Visit my website for discounts!\"\n",
        "]\n",
        "\n",
        "# Define spam keywords\n",
        "spam_keywords = [\"offer\", \"free\", \"click here\", \"visit my website\"]\n",
        "\n",
        "# Remove spam comments\n",
        "filtered_comments = []\n",
        "for comment in comments:\n",
        "    if not any(word.lower() in comment.lower() for word in spam_keywords):\n",
        "        filtered_comments.append(comment)\n",
        "\n",
        "# Extract popular words\n",
        "words = []\n",
        "for comment in filtered_comments:\n",
        "    for word in comment.split():\n",
        "        words.append(word.lower())\n",
        "\n",
        "# Count word occurrences\n",
        "word_count = Counter(words)\n",
        "\n",
        "\n",
        "print(\"Filtered Comments:\", filtered_comments)\n",
        "print(\"Most Common Words:\", word_count.most_common(5))\n"
      ],
      "metadata": {
        "colab": {
          "base_uri": "https://localhost:8080/"
        },
        "id": "23DUbCkGuING",
        "outputId": "6a418243-c665-4d83-82fa-27c832e46c9a"
      },
      "execution_count": null,
      "outputs": [
        {
          "output_type": "stream",
          "name": "stdout",
          "text": [
            "Filtered Comments: ['Great post! I really enjoyed reading it.', 'This is very insightful, thanks for sharing!']\n",
            "Most Common Words: [('great', 1), ('post!', 1), ('i', 1), ('really', 1), ('enjoyed', 1)]\n"
          ]
        }
      ]
    },
    {
      "cell_type": "markdown",
      "source": [
        "### Scenario 5: Managing Financial Transactions\n"
      ],
      "metadata": {
        "id": "KHr0-Ublu3m0"
      }
    },
    {
      "cell_type": "markdown",
      "source": [
        "You have a record of financial transactions (deposits and withdrawals), and you need to calculate the net balance.\n",
        "\n",
        "#### Task: Summing Deposits & Withdrawals"
      ],
      "metadata": {
        "id": "ixURApoyu5y9"
      }
    },
    {
      "cell_type": "code",
      "source": [
        "transactions = [\n",
        "    {\"type\": \"deposit\", \"amount\": 1500},\n",
        "    {\"type\": \"withdrawal\", \"amount\": 500},\n",
        "    {\"type\": \"deposit\", \"amount\": 2000},\n",
        "    {\"type\": \"withdrawal\", \"amount\": 700},\n",
        "]\n",
        "\n",
        "# Calculate net balance\n",
        "net_balance = sum(t[\"amount\"] if t[\"type\"] == \"deposit\" else -t[\"amount\"] for t in transactions)\n",
        "\n",
        "print(f\"Net Account Balance: ${net_balance}\")\n"
      ],
      "metadata": {
        "colab": {
          "base_uri": "https://localhost:8080/"
        },
        "id": "Tea5Yrg6uvXF",
        "outputId": "14c2cd08-f668-4640-d1e8-732e7b7478a5"
      },
      "execution_count": null,
      "outputs": [
        {
          "output_type": "stream",
          "name": "stdout",
          "text": [
            "Net Account Balance: $2300\n"
          ]
        }
      ]
    },
    {
      "cell_type": "code",
      "source": [],
      "metadata": {
        "id": "D4LwaVcBu9In"
      },
      "execution_count": null,
      "outputs": []
    },
    {
      "cell_type": "markdown",
      "source": [
        "# Practice Time"
      ],
      "metadata": {
        "id": "G19KACpqvaPb"
      }
    },
    {
      "cell_type": "markdown",
      "source": [
        "#### 1. Find the Most Frequently Purchased Item\n",
        "You have a list of items that customers purchased. Find and return the most frequently purchased item."
      ],
      "metadata": {
        "id": "G8H_B1uMT9YT"
      }
    },
    {
      "cell_type": "code",
      "source": [
        "# input\n",
        "purchases = [\"shoes\", \"bag\", \"shoes\", \"watch\", \"bag\", \"shoes\", \"hat\"]\n",
        "purchases"
      ],
      "metadata": {
        "colab": {
          "base_uri": "https://localhost:8080/"
        },
        "id": "FPTRV2Rlve86",
        "outputId": "f29cb69e-04a8-43f7-a6e1-1f2157bd6d49"
      },
      "execution_count": null,
      "outputs": [
        {
          "output_type": "execute_result",
          "data": {
            "text/plain": [
              "['shoes', 'bag', 'shoes', 'watch', 'bag', 'shoes', 'hat']"
            ]
          },
          "metadata": {},
          "execution_count": 2
        }
      ]
    },
    {
      "cell_type": "markdown",
      "source": [
        "**Hint:**\n",
        "\n",
        "Use the Counter class from the collections module to count occurrences.\n",
        "\n",
        "**Expected Output:**\n",
        "\n",
        "\"shoes\""
      ],
      "metadata": {
        "id": "3OHzKi51ULO7"
      }
    },
    {
      "cell_type": "markdown",
      "source": [
        "#### 2. Detect Consecutive Declining Stock Prices\n",
        "A company tracks its stock price daily. If the price decreases for three consecutive days, return the first day where this pattern starts."
      ],
      "metadata": {
        "id": "lDUANfy5UaNl"
      }
    },
    {
      "cell_type": "code",
      "source": [
        "# input\n",
        "stock_prices = [100, 98, 97, 95, 96, 94, 93, 92]\n",
        "stock_prices"
      ],
      "metadata": {
        "colab": {
          "base_uri": "https://localhost:8080/"
        },
        "id": "RnmqxI9CUD-x",
        "outputId": "490d61b9-f3a8-417f-fc1f-f0f9518a86e1"
      },
      "execution_count": null,
      "outputs": [
        {
          "output_type": "execute_result",
          "data": {
            "text/plain": [
              "[100, 98, 97, 95, 96, 94, 93, 92]"
            ]
          },
          "metadata": {},
          "execution_count": 3
        }
      ]
    },
    {
      "cell_type": "markdown",
      "source": [
        "**Hint:**\n",
        "\n",
        "Use a loop to compare each day’s price with the next two days.\n",
        "\n",
        "**Expected Output:**\n",
        "\n",
        "97  # (First day of three consecutive declines: 98 -> 97 -> 95)"
      ],
      "metadata": {
        "id": "o2fINEiKUjmb"
      }
    },
    {
      "cell_type": "markdown",
      "source": [
        "#### 3. Simulating a To-Do List\n",
        "Create a to-do list system where:\n",
        "\n",
        "- Tasks are stored as a list of dictionaries ({\"task\": task_name, \"status\": \"pending\"}).\n",
        "- The user can mark a task as completed by providing its name.\n",
        "- The system should print the updated to-do list."
      ],
      "metadata": {
        "id": "69esCDOoUuVa"
      }
    },
    {
      "cell_type": "code",
      "source": [
        "tasks = [\n",
        "    {\"task\": \"Pay bills\", \"status\": \"pending\"},\n",
        "    {\"task\": \"Buy groceries\", \"status\": \"pending\"},\n",
        "    {\"task\": \"Schedule appointment\", \"status\": \"pending\"}\n",
        "]\n",
        "\n",
        "completed_task = \"Buy groceries\"\n"
      ],
      "metadata": {
        "id": "8bHYcrW5Ug0Y"
      },
      "execution_count": null,
      "outputs": []
    },
    {
      "cell_type": "markdown",
      "source": [
        "**Hint:**\n",
        "\n",
        "Loop through the list and update the dictionary when the task name matches.\n",
        "\n",
        "**Expected Output:**\n",
        "\n",
        "[\n",
        "    {\"task\": \"Pay bills\", \"status\": \"pending\"},\n",
        "    {\"task\": \"Buy groceries\", \"status\": \"completed\"},\n",
        "    {\"task\": \"Schedule appointment\", \"status\": \"pending\"}\n",
        "]"
      ],
      "metadata": {
        "id": "AHHQ0h4DU68Q"
      }
    },
    {
      "cell_type": "markdown",
      "source": [
        "#### 4. Extract Users with Missing Information\n",
        "A company has user profiles stored as dictionaries in a list.\n",
        "\n",
        "Some users have missing information (`None`).\n",
        "\n",
        "Find users with **at least one missing field** and return their names."
      ],
      "metadata": {
        "id": "eXeC63ZSVZYv"
      }
    },
    {
      "cell_type": "code",
      "source": [
        "users = [\n",
        "    {\"name\": \"Alice\", \"email\": \"alice@example.com\", \"phone\": None},\n",
        "    {\"name\": \"Bob\", \"email\": None, \"phone\": \"123-456-7890\"},\n",
        "    {\"name\": \"Charlie\", \"email\": \"charlie@example.com\", \"phone\": \"987-654-3210\"}\n",
        "]\n",
        "users"
      ],
      "metadata": {
        "colab": {
          "base_uri": "https://localhost:8080/"
        },
        "id": "Zv6OaCjMVhrY",
        "outputId": "c329728b-2178-4733-9e0b-731b8a1bc316"
      },
      "execution_count": null,
      "outputs": [
        {
          "output_type": "execute_result",
          "data": {
            "text/plain": [
              "[{'name': 'Alice', 'email': 'alice@example.com', 'phone': None},\n",
              " {'name': 'Bob', 'email': None, 'phone': '123-456-7890'},\n",
              " {'name': 'Charlie', 'email': 'charlie@example.com', 'phone': '987-654-3210'}]"
            ]
          },
          "metadata": {},
          "execution_count": 5
        }
      ]
    },
    {
      "cell_type": "markdown",
      "source": [
        "**Hint:**\n",
        "\n",
        "Check if any value in the dictionary is None using a loop.\n",
        "\n",
        "**Expected Output:**\n",
        "\n",
        "[\"Alice\", \"Bob\"]"
      ],
      "metadata": {
        "id": "Ez6EHg_fVtso"
      }
    },
    {
      "cell_type": "markdown",
      "source": [
        "#### 5. Merge and Deduplicate Two Contact Lists\n",
        "You have two separate lists of contacts. Some contacts appear in both lists.\n",
        "\n",
        "Merge them into a single list without duplicates."
      ],
      "metadata": {
        "id": "hcmuRTF8V6iM"
      }
    },
    {
      "cell_type": "code",
      "source": [
        "contacts_a = [\"alice@example.com\", \"bob@example.com\", \"charlie@example.com\"]\n",
        "contacts_b = [\"david@example.com\", \"alice@example.com\", \"charlie@example.com\"]\n"
      ],
      "metadata": {
        "id": "wjcpyYxcVpI0"
      },
      "execution_count": null,
      "outputs": []
    },
    {
      "cell_type": "markdown",
      "source": [
        "**Hint:**\n",
        "\n",
        "Convert the lists to a set to remove duplicates and then back to a list.\n",
        "\n",
        "**Expected Output:**\n",
        "\n",
        "[\"alice@example.com\", \"bob@example.com\", \"charlie@example.com\", \"david@example.com\"]"
      ],
      "metadata": {
        "id": "yiw4ZnDsWJ2b"
      }
    },
    {
      "cell_type": "markdown",
      "source": [
        "### Final Notes\n",
        "- Use list comprehensions, loops, sets, and dictionaries where appropriate.\n",
        "- If you're stuck, print intermediate results to debug your code.\n",
        "- Think about real-world applications of each problem—this will help in actual programming scenarios!"
      ],
      "metadata": {
        "id": "tSnmd1YKWVHl"
      }
    },
    {
      "cell_type": "code",
      "source": [],
      "metadata": {
        "id": "qR8pa2lnWG-H"
      },
      "execution_count": null,
      "outputs": []
    }
  ]
}