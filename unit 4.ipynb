{
  "nbformat": 4,
  "nbformat_minor": 0,
  "metadata": {
    "colab": {
      "provenance": [],
      "authorship_tag": "ABX9TyN5QbqkB5PieN01Fdai8Ns/"
    },
    "kernelspec": {
      "name": "python3",
      "display_name": "Python 3"
    },
    "language_info": {
      "name": "python"
    }
  },
  "cells": [
    {
      "cell_type": "markdown",
      "source": [
        "# **Lesson: Introduction to Dictionaries in Python**"
      ],
      "metadata": {
        "id": "Xpkpn0c3qCIr"
      }
    },
    {
      "cell_type": "markdown",
      "source": [
        "## **What is a Dictionary?**\n",
        "A **dictionary** in Python is a collection of key-value pairs. It is an **unordered, mutable** data structure that allows **fast lookups** using keys.\n",
        "\n",
        "### **Creating a Dictionary**\n",
        "\n"
      ],
      "metadata": {
        "id": "xnaP2xkRqGOw"
      }
    },
    {
      "cell_type": "code",
      "source": [
        "# Example: A simple dictionary storing account balances\n",
        "bank_accounts = {\n",
        "    \"Alice\": 1500,\n",
        "    \"Bob\": 2300,\n",
        "    \"Charlie\": 1800\n",
        "}\n",
        "print(bank_accounts)"
      ],
      "metadata": {
        "colab": {
          "base_uri": "https://localhost:8080/"
        },
        "id": "PvU_hhwHqMMk",
        "outputId": "e2eec26e-5b90-405f-b850-7d6152a66d73"
      },
      "execution_count": 2,
      "outputs": [
        {
          "output_type": "stream",
          "name": "stdout",
          "text": [
            "{'Alice': 1500, 'Bob': 2300, 'Charlie': 1800}\n"
          ]
        }
      ]
    },
    {
      "cell_type": "markdown",
      "source": [
        "Accessing Values"
      ],
      "metadata": {
        "id": "yU9iBwNUqV3P"
      }
    },
    {
      "cell_type": "code",
      "execution_count": 3,
      "metadata": {
        "colab": {
          "base_uri": "https://localhost:8080/"
        },
        "id": "oRPA7Yeaif_A",
        "outputId": "6abf72c3-7563-4b12-b93b-9bcb5d05090d"
      },
      "outputs": [
        {
          "output_type": "stream",
          "name": "stdout",
          "text": [
            "1500\n"
          ]
        }
      ],
      "source": [
        "print(bank_accounts[\"Alice\"])  # Output: 1500\n"
      ]
    },
    {
      "cell_type": "markdown",
      "source": [
        "Adding & Updating Entries"
      ],
      "metadata": {
        "id": "NDbCQxaeqYKw"
      }
    },
    {
      "cell_type": "code",
      "source": [
        "bank_accounts[\"David\"] = 2000  # Adding a new key-value pair\n",
        "bank_accounts[\"Alice\"] += 500  # Updating Alice's balance\n",
        "print(bank_accounts)\n"
      ],
      "metadata": {
        "colab": {
          "base_uri": "https://localhost:8080/"
        },
        "id": "vN2hP9SpqLvB",
        "outputId": "b8d71698-3de6-4752-89cd-4c0455a87ba8"
      },
      "execution_count": 4,
      "outputs": [
        {
          "output_type": "stream",
          "name": "stdout",
          "text": [
            "{'Alice': 2000, 'Bob': 2300, 'Charlie': 1800, 'David': 2000}\n"
          ]
        }
      ]
    },
    {
      "cell_type": "markdown",
      "source": [
        "Removing Entries"
      ],
      "metadata": {
        "id": "QDIAGlecqaSB"
      }
    },
    {
      "cell_type": "code",
      "source": [
        "del bank_accounts[\"Charlie\"]  # Removing Charlie's account\n",
        "print(bank_accounts)\n"
      ],
      "metadata": {
        "colab": {
          "base_uri": "https://localhost:8080/"
        },
        "id": "77nwp1hBqTgf",
        "outputId": "b15c9304-0336-493c-8830-6790ffa6a931"
      },
      "execution_count": 5,
      "outputs": [
        {
          "output_type": "stream",
          "name": "stdout",
          "text": [
            "{'Alice': 2000, 'Bob': 2300, 'David': 2000}\n"
          ]
        }
      ]
    },
    {
      "cell_type": "markdown",
      "source": [
        "Checking if a Key Exists"
      ],
      "metadata": {
        "id": "s5-sZ-mbqd1J"
      }
    },
    {
      "cell_type": "code",
      "source": [
        "if \"Bob\" in bank_accounts:\n",
        "    print(\"Bob has an account.\")\n"
      ],
      "metadata": {
        "colab": {
          "base_uri": "https://localhost:8080/"
        },
        "id": "rBrEl_f-qbiv",
        "outputId": "d8b596d7-67ce-4f59-a031-0f11adce3dea"
      },
      "execution_count": 6,
      "outputs": [
        {
          "output_type": "stream",
          "name": "stdout",
          "text": [
            "Bob has an account.\n"
          ]
        }
      ]
    },
    {
      "cell_type": "markdown",
      "source": [
        "Looping Through a Dictionary"
      ],
      "metadata": {
        "id": "QEP08fvDqg3l"
      }
    },
    {
      "cell_type": "code",
      "source": [
        "for name, balance in bank_accounts.items():\n",
        "    print(f\"{name} has ${balance} in their account.\")\n"
      ],
      "metadata": {
        "colab": {
          "base_uri": "https://localhost:8080/"
        },
        "id": "bMfHJF5_qfEP",
        "outputId": "276e0103-fa87-4292-c227-16a86883a8ea"
      },
      "execution_count": 7,
      "outputs": [
        {
          "output_type": "stream",
          "name": "stdout",
          "text": [
            "Alice has $2000 in their account.\n",
            "Bob has $2300 in their account.\n",
            "David has $2000 in their account.\n"
          ]
        }
      ]
    },
    {
      "cell_type": "markdown",
      "source": [
        "### Practice Questions"
      ],
      "metadata": {
        "id": "ufCziKNbqoDN"
      }
    },
    {
      "cell_type": "markdown",
      "source": [
        "Question 1: Find High Balance Accounts\n",
        "\n",
        "You have a dictionary of customer balances. Find and return all customers with balances above $2,000."
      ],
      "metadata": {
        "id": "nyND05tZqrh7"
      }
    },
    {
      "cell_type": "code",
      "source": [
        "# input\n",
        "accounts = {\n",
        "    \"Alice\": 1500,\n",
        "    \"Bob\": 2300,\n",
        "    \"Charlie\": 1800,\n",
        "    \"David\": 2500\n",
        "}\n"
      ],
      "metadata": {
        "id": "zl14gR3iqilP"
      },
      "execution_count": 8,
      "outputs": []
    },
    {
      "cell_type": "markdown",
      "source": [
        "Expected Output:\n",
        "\n",
        "[\"Bob\", \"David\"]"
      ],
      "metadata": {
        "id": "dvs5no5Oq1EF"
      }
    },
    {
      "cell_type": "markdown",
      "source": [
        "Question 2: Update Credit Card Limits\n",
        "\n",
        "A bank wants to increase the credit limit for all accounts by 10%. Update the dictionary in-place."
      ],
      "metadata": {
        "id": "gICdrX-Rq4Zy"
      }
    },
    {
      "cell_type": "code",
      "source": [
        "# input\n",
        "credit_limits = {\n",
        "    \"Alice\": 5000,\n",
        "    \"Bob\": 7000,\n",
        "    \"Charlie\": 6000\n",
        "}\n"
      ],
      "metadata": {
        "id": "IjiDC0E9qzCX"
      },
      "execution_count": 9,
      "outputs": []
    },
    {
      "cell_type": "markdown",
      "source": [
        "Expected Output:\n",
        "\n",
        "{\n",
        "    \"Alice\": 5500,\n",
        "    \"Bob\": 7700,\n",
        "    \"Charlie\": 6600\n",
        "}"
      ],
      "metadata": {
        "id": "qKqK0hV1q-AN"
      }
    },
    {
      "cell_type": "markdown",
      "source": [
        "Answers"
      ],
      "metadata": {
        "id": "JGf5vE5HrBQz"
      }
    },
    {
      "cell_type": "code",
      "source": [
        "# Answer 1: Find High Balance Accounts\n",
        "high_balance_accounts = [name for name, balance in accounts.items() if balance > 2000]\n",
        "print(high_balance_accounts)\n",
        "\n",
        "# Answer 2: Increase Credit Limits\n",
        "for name in credit_limits:\n",
        "    credit_limits[name] *= 1.1  # Increase by 10%\n",
        "print(credit_limits)\n"
      ],
      "metadata": {
        "colab": {
          "base_uri": "https://localhost:8080/"
        },
        "id": "uIJWmH1Hq8Jo",
        "outputId": "1689c67a-ccee-462c-fb42-364c7511bb4b"
      },
      "execution_count": 10,
      "outputs": [
        {
          "output_type": "stream",
          "name": "stdout",
          "text": [
            "['Bob', 'David']\n",
            "{'Alice': 5500.0, 'Bob': 7700.000000000001, 'Charlie': 6600.000000000001}\n"
          ]
        }
      ]
    },
    {
      "cell_type": "markdown",
      "source": [
        "## **Working with Nested Dictionaries**\n",
        "Dictionaries can contain other dictionaries, allowing us to structure data more effectively.\n",
        "\n",
        "\n"
      ],
      "metadata": {
        "id": "IjhOChtfsGfa"
      }
    },
    {
      "cell_type": "code",
      "source": [
        "# Example: Storing customer transaction history\n",
        "transactions = {\n",
        "    \"Alice\": {\"balance\": 1500, \"last_transaction\": -200, \"is_premium\": True},\n",
        "    \"Bob\": {\"balance\": 2300, \"last_transaction\": 500, \"is_premium\": False},\n",
        "    \"Charlie\": {\"balance\": 1800, \"last_transaction\": -100, \"is_premium\": True}\n",
        "}\n",
        "\n",
        "print(transactions[\"Alice\"][\"balance\"])  # Accessing Alice's balance"
      ],
      "metadata": {
        "colab": {
          "base_uri": "https://localhost:8080/"
        },
        "id": "4qSqTixosf7z",
        "outputId": "218f4b3a-d53d-49f7-e207-7da32e7e86e0"
      },
      "execution_count": 12,
      "outputs": [
        {
          "output_type": "stream",
          "name": "stdout",
          "text": [
            "1500\n"
          ]
        }
      ]
    },
    {
      "cell_type": "markdown",
      "source": [
        "Updating Nested Dictionary Values"
      ],
      "metadata": {
        "id": "QWiNLcFbsaII"
      }
    },
    {
      "cell_type": "code",
      "source": [
        "transactions[\"Alice\"][\"balance\"] += 300  # Alice deposited $300\n",
        "print(transactions[\"Alice\"][\"balance\"])\n"
      ],
      "metadata": {
        "id": "nDHYGLiIrC9_"
      },
      "execution_count": null,
      "outputs": []
    },
    {
      "cell_type": "markdown",
      "source": [
        "Combining Dictionaries"
      ],
      "metadata": {
        "id": "XodiF0rOs2Oh"
      }
    },
    {
      "cell_type": "code",
      "source": [
        "# Example: Merging customer credit scores\n",
        "credit_scores = {\"Alice\": 750, \"Bob\": 680}\n",
        "transactions.update(credit_scores)\n",
        "print(transactions)  # Merging data\n"
      ],
      "metadata": {
        "colab": {
          "base_uri": "https://localhost:8080/"
        },
        "id": "xnL9MUSws2sm",
        "outputId": "4998199a-7080-4103-8633-9aa20f3895a5"
      },
      "execution_count": 13,
      "outputs": [
        {
          "output_type": "stream",
          "name": "stdout",
          "text": [
            "{'Alice': 750, 'Bob': 680, 'Charlie': {'balance': 1800, 'last_transaction': -100, 'is_premium': True}}\n"
          ]
        }
      ]
    },
    {
      "cell_type": "markdown",
      "source": [
        "Sorting a Dictionary by Values"
      ],
      "metadata": {
        "id": "jl70bgq1tFh3"
      }
    },
    {
      "cell_type": "code",
      "source": [
        "transactions = {\n",
        "    \"Alice\": {\"balance\": 1500, \"last_transaction\": -200, \"is_premium\": True},\n",
        "    \"Bob\": {\"balance\": 2300, \"last_transaction\": 500, \"is_premium\": False},\n",
        "    \"Charlie\": {\"balance\": 1800, \"last_transaction\": -100, \"is_premium\": True}\n",
        "}"
      ],
      "metadata": {
        "id": "ih_mB3UutN5B"
      },
      "execution_count": 15,
      "outputs": []
    },
    {
      "cell_type": "code",
      "source": [
        "# Sorting accounts by balance\n",
        "sorted_accounts = sorted(transactions.items(), key=lambda x: x[1][\"balance\"], reverse=True)\n",
        "sorted_accounts"
      ],
      "metadata": {
        "colab": {
          "base_uri": "https://localhost:8080/"
        },
        "id": "CPbI74tws7vH",
        "outputId": "caca78fa-3e72-44e8-8a42-d4999d4c1636"
      },
      "execution_count": 18,
      "outputs": [
        {
          "output_type": "execute_result",
          "data": {
            "text/plain": [
              "[('Bob', {'balance': 2300, 'last_transaction': 500, 'is_premium': False}),\n",
              " ('Charlie', {'balance': 1800, 'last_transaction': -100, 'is_premium': True}),\n",
              " ('Alice', {'balance': 1500, 'last_transaction': -200, 'is_premium': True})]"
            ]
          },
          "metadata": {},
          "execution_count": 18
        }
      ]
    },
    {
      "cell_type": "markdown",
      "source": [
        "### Practice Questions"
      ],
      "metadata": {
        "id": "jeKX7FJ0tfXf"
      }
    },
    {
      "cell_type": "markdown",
      "source": [
        "Question 3: Find VIP Customers\n",
        "\n",
        "A VIP customer is one whose balance is above $2,000 and has a premium account. Identify all VIP customers."
      ],
      "metadata": {
        "id": "dFQggdHptgy3"
      }
    },
    {
      "cell_type": "code",
      "source": [
        "# Input:\n",
        "accounts = {\n",
        "    \"Alice\": {\"balance\": 1500, \"is_premium\": True},\n",
        "    \"Bob\": {\"balance\": 2300, \"is_premium\": False},\n",
        "    \"Charlie\": {\"balance\": 1800, \"is_premium\": True},\n",
        "    \"David\": {\"balance\": 2600, \"is_premium\": True}\n",
        "}\n"
      ],
      "metadata": {
        "id": "GJATfJQ9tHce"
      },
      "execution_count": 19,
      "outputs": []
    },
    {
      "cell_type": "markdown",
      "source": [
        "Expected Output:\n",
        "\n",
        "[\"David\"]"
      ],
      "metadata": {
        "id": "KRRUJKYytrkR"
      }
    },
    {
      "cell_type": "markdown",
      "source": [
        "Question 4: Identify Unprofitable Customers\n",
        "\n",
        "A customer is unprofitable if they have fewer than 5 transactions in a year. Identify them."
      ],
      "metadata": {
        "id": "r_q2q2zIt8zV"
      }
    },
    {
      "cell_type": "code",
      "source": [
        "# Input:\n",
        "transactions = {\n",
        "    \"Alice\": {\"transactions\": 10, \"balance\": 1500},\n",
        "    \"Bob\": {\"transactions\": 4, \"balance\": 2300},\n",
        "    \"Charlie\": {\"transactions\": 3, \"balance\": 1800},\n",
        "    \"David\": {\"transactions\": 8, \"balance\": 2600}\n",
        "}\n"
      ],
      "metadata": {
        "id": "kT0dpMhYtpuu"
      },
      "execution_count": 20,
      "outputs": []
    },
    {
      "cell_type": "markdown",
      "source": [
        "Expected Output:\n",
        "\n",
        "[\"Bob\", \"Charlie\"]"
      ],
      "metadata": {
        "id": "U-Ik4_9duDYc"
      }
    },
    {
      "cell_type": "markdown",
      "source": [
        "Answers"
      ],
      "metadata": {
        "id": "uI07BydQuJPv"
      }
    },
    {
      "cell_type": "code",
      "source": [
        "# Answer 3: Find VIP Customers\n",
        "vip_customers = [name for name, data in accounts.items() if data[\"balance\"] > 2000 and data[\"is_premium\"]]\n",
        "print(vip_customers)\n",
        "\n",
        "# Answer 4: Identify Unprofitable Customers\n",
        "unprofitable_customers = [name for name, data in transactions.items() if data[\"transactions\"] < 5]\n",
        "print(unprofitable_customers)\n"
      ],
      "metadata": {
        "colab": {
          "base_uri": "https://localhost:8080/"
        },
        "id": "pWws4CkzuB7m",
        "outputId": "8a6c3e76-1aa7-40c8-ffee-7641f8d87d41"
      },
      "execution_count": 21,
      "outputs": [
        {
          "output_type": "stream",
          "name": "stdout",
          "text": [
            "['David']\n",
            "['Bob', 'Charlie']\n"
          ]
        }
      ]
    },
    {
      "cell_type": "markdown",
      "source": [
        "## Advanced Dictionary Manipulation in Python\n"
      ],
      "metadata": {
        "id": "EaI3ShQ2uWoz"
      }
    },
    {
      "cell_type": "markdown",
      "source": [
        "Scenario 1: Fraud Detection Based on Transaction Patterns\n",
        "\n",
        "We will analyze transactions to identify potential fraud cases."
      ],
      "metadata": {
        "id": "ieaaoxvWugY2"
      }
    },
    {
      "cell_type": "code",
      "source": [
        "# Example: Identifying suspicious transactions\n",
        "transactions = {\n",
        "    \"Alice\": [100, 200, -5000, 50],  # Large negative transaction (-5000)\n",
        "    \"Bob\": [50, 60, 70, 90],  # No fraud\n",
        "    \"Charlie\": [-3000, 100, -100, 500]  # Large withdrawals (-3000)\n",
        "}\n",
        "\n",
        "# Flag accounts with transactions greater than $4000 or withdrawals over $2500\n",
        "suspicious_accounts = {name: trans for name, trans in transactions.items() if any(abs(t) > 4000 for t in trans)}\n",
        "\n",
        "suspicious_accounts\n"
      ],
      "metadata": {
        "colab": {
          "base_uri": "https://localhost:8080/"
        },
        "id": "kMRZt-04uQEn",
        "outputId": "365c5d3d-2f5d-4b13-fa3e-6debf2a899f7"
      },
      "execution_count": 23,
      "outputs": [
        {
          "output_type": "execute_result",
          "data": {
            "text/plain": [
              "{'Alice': [100, 200, -5000, 50]}"
            ]
          },
          "metadata": {},
          "execution_count": 23
        }
      ]
    },
    {
      "cell_type": "markdown",
      "source": [
        "💡 Takeaway: We use dictionaries + lists + loops to detect fraud patterns."
      ],
      "metadata": {
        "id": "nhjt4F0mv0mo"
      }
    },
    {
      "cell_type": "markdown",
      "source": [
        "Scenario 2: Credit Limit Adjustment Based on Spending Behavior\n",
        "\n",
        "Banks adjust credit limits based on spending consistency."
      ],
      "metadata": {
        "id": "k4-VTf3cv4pv"
      }
    },
    {
      "cell_type": "code",
      "source": [
        "customers = {\n",
        "    \"Alice\": {\"monthly_spending\": [1000, 1200, 1100, 1050], \"credit_limit\": 5000},\n",
        "    \"Bob\": {\"monthly_spending\": [300, 400, 450, 500], \"credit_limit\": 2000},\n",
        "    \"Charlie\": {\"monthly_spending\": [2000, 2500, 2400, 2600], \"credit_limit\": 7000}\n",
        "}\n",
        "\n",
        "# Increase credit limit for customers who consistently spend above 80% of their current limit\n",
        "for name, data in customers.items():\n",
        "    avg_spending = sum(data[\"monthly_spending\"]) / len(data[\"monthly_spending\"])\n",
        "    if avg_spending > 0.8 * data[\"credit_limit\"]:\n",
        "        data[\"credit_limit\"] *= 1.2  # Increase by 20%\n",
        "\n",
        "customers\n"
      ],
      "metadata": {
        "colab": {
          "base_uri": "https://localhost:8080/"
        },
        "id": "-HEycsqEukim",
        "outputId": "55da1cc4-fa47-4f25-8e9b-3c4b680678d4"
      },
      "execution_count": 25,
      "outputs": [
        {
          "output_type": "execute_result",
          "data": {
            "text/plain": [
              "{'Alice': {'monthly_spending': [1000, 1200, 1100, 1050], 'credit_limit': 5000},\n",
              " 'Bob': {'monthly_spending': [300, 400, 450, 500], 'credit_limit': 2000},\n",
              " 'Charlie': {'monthly_spending': [2000, 2500, 2400, 2600],\n",
              "  'credit_limit': 7000}}"
            ]
          },
          "metadata": {},
          "execution_count": 25
        }
      ]
    },
    {
      "cell_type": "markdown",
      "source": [
        "Scenario 3: Analyzing Top Spenders Across Categories\n",
        "\n",
        "Businesses track spending across categories like food, travel, shopping."
      ],
      "metadata": {
        "id": "icl0Gstrwl9C"
      }
    },
    {
      "cell_type": "code",
      "source": [
        "spending_data = {\n",
        "    \"Alice\": {\"food\": 1200, \"travel\": 1500, \"shopping\": 1800},\n",
        "    \"Bob\": {\"food\": 800, \"travel\": 600, \"shopping\": 1200},\n",
        "    \"Charlie\": {\"food\": 2000, \"travel\": 2500, \"shopping\": 2800}\n",
        "}\n",
        "\n",
        "# Find the category where each person spends the most\n",
        "top_categories = {name: max(data, key=data.get) for name, data in spending_data.items()}\n",
        "\n",
        "top_categories\n"
      ],
      "metadata": {
        "colab": {
          "base_uri": "https://localhost:8080/"
        },
        "id": "hYA4IP4FwWw-",
        "outputId": "c21a8cdb-b013-44ff-95bc-14a3a69c2f53"
      },
      "execution_count": 28,
      "outputs": [
        {
          "output_type": "execute_result",
          "data": {
            "text/plain": [
              "{'Alice': 'shopping', 'Bob': 'shopping', 'Charlie': 'shopping'}"
            ]
          },
          "metadata": {},
          "execution_count": 28
        }
      ]
    },
    {
      "cell_type": "markdown",
      "source": [
        "### Practice Questions"
      ],
      "metadata": {
        "id": "3sAFl82jxI84"
      }
    },
    {
      "cell_type": "markdown",
      "source": [
        "Question 5: Find High-Risk Customers\n",
        "A high-risk customer:\n",
        "\n",
        "*   Has more than 3 withdrawals above $2000\n",
        "\n",
        "*   OR has a balance below $1000 Identify all high-risk customers.\n",
        "\n",
        "\n"
      ],
      "metadata": {
        "id": "1pb9KrI9xK-9"
      }
    },
    {
      "cell_type": "code",
      "source": [
        "# Input:\n",
        "accounts = {\n",
        "    \"Alice\": {\"transactions\": [-5000, -2500, -1000, -200], \"balance\": 900},\n",
        "    \"Bob\": {\"transactions\": [-100, -50, -30, -70], \"balance\": 5000},\n",
        "    \"Charlie\": {\"transactions\": [-3000, -2500, -2700, -100], \"balance\": 1500}\n",
        "}\n"
      ],
      "metadata": {
        "id": "AS89VZyswq2n"
      },
      "execution_count": 29,
      "outputs": []
    },
    {
      "cell_type": "markdown",
      "source": [
        "Expected Output:\n",
        "\n",
        "[\"Alice\", \"Charlie\"]"
      ],
      "metadata": {
        "id": "DVHMbRSDxcoj"
      }
    },
    {
      "cell_type": "markdown",
      "source": [
        "Question 6: Categorizing Customers Based on Spending\n",
        "Customers are classified as:\n",
        "\n",
        "\n",
        "\n",
        "*   \"Luxury Spender\" if their highest spending category is travel.\n",
        "\n",
        "*   \"Budget Conscious\" if their highest spending category is food.\n",
        "\n",
        "*   \"Shopper\" if their highest spending category is shopping.\n",
        "\n",
        "Classify each customer."
      ],
      "metadata": {
        "id": "mKewG1ctxja4"
      }
    },
    {
      "cell_type": "code",
      "source": [
        "# Input:\n",
        "spending_data = {\n",
        "    \"Alice\": {\"food\": 1200, \"travel\": 1500, \"shopping\": 1800},\n",
        "    \"Bob\": {\"food\": 1800, \"travel\": 1600, \"shopping\": 1500},\n",
        "    \"Charlie\": {\"food\": 2500, \"travel\": 2200, \"shopping\": 2600}\n",
        "}\n"
      ],
      "metadata": {
        "id": "1vdhiQeLxZl2"
      },
      "execution_count": 31,
      "outputs": []
    },
    {
      "cell_type": "markdown",
      "source": [
        "Expected Output:\n",
        "\n",
        "{\"Alice\": \"Shopper\", \"Bob\": \"Budget Conscious\", \"Charlie\": \"Shopper\"}"
      ],
      "metadata": {
        "id": "18MpUFmwx1FY"
      }
    },
    {
      "cell_type": "markdown",
      "source": [
        "Answers:"
      ],
      "metadata": {
        "id": "5oAEubJFx3T0"
      }
    },
    {
      "cell_type": "code",
      "source": [
        "# Answer 5: Finding High-Risk Customers\n",
        "high_risk_customers = [\n",
        "    name for name, data in accounts.items()\n",
        "    if len([t for t in data[\"transactions\"] if t < -2000]) > 3 or data[\"balance\"] < 1000\n",
        "]\n",
        "print(high_risk_customers)\n",
        "\n",
        "# Answer 6: Categorizing Customers Based on Spending\n",
        "categories = {\n",
        "    name: \"Luxury Spender\" if max(data, key=data.get) == \"travel\"\n",
        "    else \"Budget Conscious\" if max(data, key=data.get) == \"food\"\n",
        "    else \"Shopper\"\n",
        "    for name, data in spending_data.items()\n",
        "}\n",
        "print(categories)\n"
      ],
      "metadata": {
        "colab": {
          "base_uri": "https://localhost:8080/"
        },
        "id": "vLzT9rzgxwKe",
        "outputId": "2c21e893-bd42-477c-fd75-f165d452668b"
      },
      "execution_count": 32,
      "outputs": [
        {
          "output_type": "stream",
          "name": "stdout",
          "text": [
            "['Alice']\n",
            "{'Alice': 'Shopper', 'Bob': 'Budget Conscious', 'Charlie': 'Shopper'}\n"
          ]
        }
      ]
    },
    {
      "cell_type": "code",
      "source": [],
      "metadata": {
        "id": "RbZkrFr00xZ5"
      },
      "execution_count": null,
      "outputs": []
    },
    {
      "cell_type": "code",
      "source": [],
      "metadata": {
        "id": "bIV4pEoE0xW9"
      },
      "execution_count": null,
      "outputs": []
    },
    {
      "cell_type": "code",
      "source": [
        "import pandas as pd\n",
        "import numpy as np\n",
        "\n",
        "# Creating the first dataset: Fraudulent Transactions Detection\n",
        "np.random.seed(42)\n",
        "num_rows = 100\n",
        "\n",
        "fraud_data = pd.DataFrame({\n",
        "    \"transaction_id\": range(1, num_rows + 1),\n",
        "    \"customer_id\": np.random.randint(1000, 2000, num_rows),\n",
        "    \"transaction_amount\": np.random.randint(50, 5000, num_rows),\n",
        "    \"merchant_category\": np.random.choice([\"Electronics\", \"Grocery\", \"Luxury\", \"Travel\", \"Fast Food\"], num_rows),\n",
        "    \"location\": np.random.choice([\"New York\", \"Los Angeles\", \"Chicago\", \"Houston\", \"Miami\"], num_rows),\n",
        "    \"time_of_transaction\": np.random.choice([\"Morning\", \"Afternoon\", \"Evening\", \"Night\"], num_rows),\n",
        "    \"previous_fraud_reports\": np.random.randint(0, 5, num_rows)\n",
        "})\n",
        "\n",
        "# Creating the second dataset: Credit Card Default Risk\n",
        "credit_data = pd.DataFrame({\n",
        "    \"customer_id\": range(2001, 2001 + num_rows),\n",
        "    \"credit_limit\": np.random.randint(5000, 25000, num_rows),\n",
        "    \"avg_utilization\": np.random.uniform(30, 95, num_rows).round(2),\n",
        "    \"late_payments_6m\": np.random.randint(0, 6, num_rows),\n",
        "    \"recent_large_transaction\": np.random.randint(1000, 15000, num_rows)\n",
        "})\n",
        "\n",
        "# Saving to Excel files\n",
        "fraud_data.to_csv(\"fraud_transactions.csv\", index=False)\n",
        "credit_data.to_csv(\"credit_risk.csv\", index=False)\n",
        "\n",
        "\n"
      ],
      "metadata": {
        "id": "s15jBFak0xTu"
      },
      "execution_count": 39,
      "outputs": []
    },
    {
      "cell_type": "code",
      "source": [],
      "metadata": {
        "id": "l6GOKjIA0xKk"
      },
      "execution_count": null,
      "outputs": []
    },
    {
      "cell_type": "markdown",
      "source": [
        "### **Risk Management in Credit Card Companies**\n",
        "\n",
        "For the final part of this lesson, we’ll focus on **real-world risk management scenarios** in a **credit card company**.  \n",
        "These two challenges require **DataFrames, lists, dictionaries, tuples, and boolean logic** while leveraging **Pandas and NumPy**.\n",
        "\n",
        "---\n",
        "\n",
        "## **Question 1: Identifying Customers with Unusual Spending Behavior**\n",
        "A credit card company wants to flag customers with **suspicious spending patterns** based on the following conditions:  \n",
        "\n",
        "🔴 **High Risk**:  \n",
        "- Spends more than **90%** of their credit limit in a single transaction.  \n",
        "- Has at least **two** transactions on the same day at different locations (potential fraud).  \n",
        "\n",
        "🟡 **Medium Risk**:  \n",
        "- Spends more than **70%** of their credit limit in a single transaction but less than 90%.  \n",
        "- Has at least **one** transaction at a foreign location.  \n",
        "\n",
        "🟢 **Low Risk**:  \n",
        "- Otherwise, they are considered **low risk**.  \n",
        "\n",
        "### **Dataset Sample (`transactions.csv`):**  \n",
        "| customer_id | date       | amount | location  | credit_limit |\n",
        "|------------|------------|--------|------------|--------------|\n",
        "| 101        | 2024-02-01 | 5000   | \"New York\" | 6000         |\n",
        "| 101        | 2024-02-01 | 100    | \"Los Angeles\" | 6000         |\n",
        "| 102        | 2024-02-02 | 2000   | \"Paris\"    | 5000         |\n",
        "| 103        | 2024-02-03 | 1500   | \"Chicago\"  | 4000         |\n",
        "\n",
        "### **Expected Output:**\n",
        "```python\n",
        "{\"101\": \"High Risk\", \"102\": \"Medium Risk\", \"103\": \"Low Risk\"}\n"
      ],
      "metadata": {
        "id": "tDmc5Zt6y5Vh"
      }
    },
    {
      "cell_type": "markdown",
      "source": [
        "Hint:\n",
        "\n",
        "\n",
        "*   Use Pandas to merge the files\n",
        "*   Use Pandas to group transactions by customer_id and date.\n",
        "*   Use a dictionary to store each customer’s risk level.\n",
        "*   Use tuples to track unique locations per day.\n",
        "*   Use boolean logic to classify risk levels.\n",
        "\n",
        "\n",
        "\n",
        "\n",
        "\n",
        "\n",
        "\n",
        "\n"
      ],
      "metadata": {
        "id": "3wWMEuCQzH18"
      }
    },
    {
      "cell_type": "markdown",
      "source": [
        "### **Question 2: Predicting Customers Likely to Default on Payments**\n",
        "\n",
        "A credit card company wants to **predict customers at risk of missing payments** based on the following criteria:  \n",
        "\n",
        "🔹 **Factors Considered:**  \n",
        "- **Payment History**: If a customer has more than **2 late payments** in the last **6 months**, they are at risk.  \n",
        "- **Credit Utilization**: If they use **more than 80%** of their credit limit on average.  \n",
        "- **Recent Large Transactions**: If they made a transaction over **50%** of their limit in the last month.  \n",
        "\n",
        "🛑 **High Default Risk** = Meets **all** conditions.  \n",
        "⚠️ **Medium Default Risk** = Meets **two** conditions.  \n",
        "✅ **Low Default Risk** = Meets **one or none**.  \n",
        "\n",
        "## **Dataset Sample (`credit_data.csv`):**  \n",
        "| customer_id | credit_limit | avg_utilization | late_payments_6m | recent_large_transaction |\n",
        "|------------|--------------|----------------|------------------|--------------------------|\n",
        "| 201        | 10000        | 85%            | 3                | 7000                     |\n",
        "| 202        | 8000         | 75%            | 2                | 1000                     |\n",
        "| 203        | 5000         | 50%            | 1                | 2000                     |\n",
        "\n",
        "### **Expected Output:**\n",
        "```python\n",
        "{\"201\": \"High Default Risk\", \"202\": \"Medium Default Risk\", \"203\": \"Low Default Risk\"}\n"
      ],
      "metadata": {
        "id": "xJYsk5bMzhuM"
      }
    },
    {
      "cell_type": "markdown",
      "source": [
        "Hint:\n",
        "*   Use a dictionary to store customers and their risk levels.\n",
        "*   Convert percentages to floats for comparisons.\n",
        "*   Use logical conditions to determine risk classification.\n",
        "*   Use NumPy or Pandas to work efficiently with data.\n",
        "\n",
        "\n",
        "\n",
        "\n",
        "\n"
      ],
      "metadata": {
        "id": "-P0rCMTvzloY"
      }
    },
    {
      "cell_type": "markdown",
      "source": [
        "Answers:"
      ],
      "metadata": {
        "id": "uNvyQtJ-zwf8"
      }
    },
    {
      "cell_type": "markdown",
      "source": [
        "Answer 1: Identifying Customers with Unusual Spending Behavior"
      ],
      "metadata": {
        "id": "Z5A4aV3Jzy-Q"
      }
    },
    {
      "cell_type": "code",
      "source": [
        "import pandas as pd\n",
        "\n",
        "# Load data\n",
        "credit_risk = pd.read_csv('credit_risk.csv')\n",
        "fraud_transactions = pd.read_csv('fraud_transactions.csv')\n",
        "\n",
        "df = fraud_transactions.merge(credit_risk, on='customer_id', how='left')\n",
        "\n",
        "# Group transactions by customer\n",
        "risk_levels = {}\n",
        "\n",
        "for customer in df[\"customer_id\"].unique():\n",
        "    cust_df = df[df[\"customer_id\"] == customer]\n",
        "    credit_limit = cust_df[\"credit_limit\"].iloc[0]\n",
        "\n",
        "    high_risk = any(cust_df[\"amount\"] > 0.9 * credit_limit)\n",
        "    multiple_locations = any(cust_df.groupby(\"date\")[\"location\"].nunique() > 1)\n",
        "    medium_risk = any((cust_df[\"amount\"] > 0.7 * credit_limit) & (cust_df[\"amount\"] <= 0.9 * credit_limit))\n",
        "    foreign_location = any(cust_df[\"location\"].str.contains(\"Paris|London|Tokyo\", case=False))\n",
        "\n",
        "    if high_risk or multiple_locations:\n",
        "        risk_levels[customer] = \"High Risk\"\n",
        "    elif medium_risk or foreign_location:\n",
        "        risk_levels[customer] = \"Medium Risk\"\n",
        "    else:\n",
        "        risk_levels[customer] = \"Low Risk\"\n",
        "\n",
        "print(risk_levels)\n"
      ],
      "metadata": {
        "colab": {
          "base_uri": "https://localhost:8080/"
        },
        "id": "d82JrZg4x7IW",
        "outputId": "f6e64ab1-2e8f-41bb-c886-f54967fda49b"
      },
      "execution_count": 33,
      "outputs": [
        {
          "output_type": "stream",
          "name": "stdout",
          "text": [
            "{101: 'High Risk', 102: 'Medium Risk', 103: 'Low Risk'}\n"
          ]
        }
      ]
    },
    {
      "cell_type": "markdown",
      "source": [
        "Answer 2: Predicting Customers Likely to Default on Payments"
      ],
      "metadata": {
        "id": "kvwyiQiAz8V4"
      }
    },
    {
      "cell_type": "code",
      "source": [
        "import pandas as pd\n",
        "\n",
        "# Load data\n",
        "credit_risk = pd.read_csv('credit_risk.csv')\n",
        "\n",
        "# Define risk levels\n",
        "risk_levels = {}\n",
        "\n",
        "for _, row in df.iterrows():\n",
        "    conditions_met = 0\n",
        "    if row[\"late_payments_6m\"] > 2:\n",
        "        conditions_met += 1\n",
        "    if row[\"avg_utilization\"] > 0.80:\n",
        "        conditions_met += 1\n",
        "    if row[\"recent_large_transaction\"] > 0.50 * row[\"credit_limit\"]:\n",
        "        conditions_met += 1\n",
        "\n",
        "    if conditions_met == 3:\n",
        "        risk_levels[row[\"customer_id\"]] = \"High Default Risk\"\n",
        "    elif conditions_met == 2:\n",
        "        risk_levels[row[\"customer_id\"]] = \"Medium Default Risk\"\n",
        "    else:\n",
        "        risk_levels[row[\"customer_id\"]] = \"Low Default Risk\"\n",
        "\n",
        "print(risk_levels)\n"
      ],
      "metadata": {
        "colab": {
          "base_uri": "https://localhost:8080/"
        },
        "id": "OTczk9_9z1s9",
        "outputId": "a8cc22ee-8f85-4c33-84cc-55a22b0b8722"
      },
      "execution_count": 34,
      "outputs": [
        {
          "output_type": "stream",
          "name": "stdout",
          "text": [
            "{201.0: 'High Default Risk', 202.0: 'Low Default Risk', 203.0: 'Low Default Risk'}\n"
          ]
        }
      ]
    },
    {
      "cell_type": "code",
      "source": [],
      "metadata": {
        "id": "kiP_K4Sfz-O1"
      },
      "execution_count": 34,
      "outputs": []
    }
  ]
}